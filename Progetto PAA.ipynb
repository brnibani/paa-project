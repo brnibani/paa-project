{
 "cells": [
  {
   "cell_type": "markdown",
   "metadata": {},
   "source": [
    "# Progetto PAA, a.a. 2015/2016\n",
    "\n",
    "Autori: Tommaso Papini (5537529), Gabriele Bani (5719258)\n",
    "\n",
    "## Quicksort\n",
    "\n",
    "## Mergesort\n",
    "Il **Mergesort** è un algoritmo di ordinamento ricorsivo, basato su confronti, che utilizza la tecnica del **divide et impera** per ordinare, ad esempio, un vettore di n elementi.\n",
    "\n",
    "Supponiamo di voler ordinare un vettore $a[1..n]$. Secondo l'implementazione del Mergesort vista a lezione, occorre:\n",
    "\n",
    "<ul>\n",
    "<li> suddividere, ricorsivamente, il vettore a in due parti fino ad arrivare all'insieme contenente un solo elemento</li>\n",
    "<li> ordinare e fondere i sottovettori partendo dai sottoinsiemi che hanno il minor numero di elementi\n",
    "</ul>\n",
    "\n",
    "Il **numero di confronti** del Mergesort è dato dalla seguente relazione di ricorrenza:\n",
    "\n",
    "$$\n",
    "C_n = C_{\\lfloor\\frac{n}{2}\\rfloor} + C_{\\lceil\\frac{n}{2}\\rceil} + n\\\\\n",
    "C_1 = 0\n",
    "$$\n",
    "<br></br>\n",
    "<br></br>\n",
    "\n",
    "**Verifichiamo adesso che, se $\\mathbf{n = 2^m}$, allora $$C_n = n \\lfloor log_2 n\\rfloor - 2^{\\lfloor log_2 n\\rfloor +1} + 2n$$**\n",
    "\n",
    "Sia $D_n = C_{n+1} - C_n$\n",
    "\n",
    "Allora $$D_n = C_{\\lfloor\\frac{n+1}{2}\\rfloor} + C_{\\lceil\\frac{n+1}{2}\\rceil}+n+1-C_{\\lfloor\\frac{n}{2}\\rfloor} - C_{\\lceil\\frac{n}{2}\\rceil}-n$$\n",
    "\n",
    "Tuttavia, sappiamo che:\n",
    "\n",
    "$\\lfloor\\frac{n+1}{2}\\rfloor = \\lceil\\frac{n}{2}\\rceil\\\\\n",
    "\\lceil\\frac{n+1}{2}\\rceil = \\lfloor\\frac{n}{2}\\rfloor+1$\n",
    "\n",
    "Quindi $$D_n = C_{\\lceil\\frac{n+1}{2}\\rceil}+1-C_{\\lfloor\\frac{n}{2}\\rfloor} = C_{\\lfloor\\frac{n}{2}\\rfloor+1}+1-C_{\\lfloor\\frac{n}{2}\\rfloor}$$\n",
    "\n",
    "Ma, per definizione di $D_n$, abbiamo che $$D_{\\lfloor\\frac{n}{2}\\rfloor} = C_{\\lfloor\\frac{n}{2}\\rfloor+1}-C_{\\lfloor\\frac{n}{2}\\rfloor}$$\n",
    "\n",
    "Quindi possiamo dire che $$D_n = D_{\\lfloor\\frac{n}{2}\\rfloor} +1$$\n",
    "\n",
    "La condizione iniziale è che $D_1=C_2-C_1=2-0=2$\n",
    "\n",
    "Poiché $D_n = D_{\\lfloor\\frac{n}{2}\\rfloor} +1$ allora $D_n = D_{\\lfloor\\frac{n}{2}\\rfloor} +1 = D_{\\lfloor\\frac{n}{2^2}\\rfloor} +1+1=\\dots=D_{\\lfloor\\frac{n}{2^k}\\rfloor} +k$  \n",
    "\n",
    "<br></br>\n",
    "<br></br>\n",
    "\n",
    "**Per quali valori di n abbiamo che $\\mathbf{\\lfloor\\frac{n}{2^k}\\rfloor=1}$ ?**\n",
    "\n",
    "$$\n",
    "2^k \\leq n < 2^k+1\n",
    "$$\n",
    "\n",
    "<div style=\"text-align: center;\" markdown=\"1\">ovvero</div>\n",
    "\n",
    "$$\n",
    "k \\leq log_2 n < k+1\n",
    "$$\n",
    "\n",
    "Quindi $ k \\leq log_2 n$ e, al contempo, $k > log_2 n -1$. Quindi $\\mathbf{k = \\lfloor log_2 n\\rfloor}$\n",
    "<br></br>\n",
    "<br></br>\n",
    "<br></br>\n",
    "\n",
    "Quindi se $\\mathbf{k = \\lfloor log_2 n\\rfloor}$ allora $D_n = D_1 + k = 2 + \\lfloor log_2 n\\rfloor$ ovvero $D_n = C_{n+1} - C_n = 2 + \\lfloor log_2 n\\rfloor$\n",
    "\n",
    "$$\n",
    "C_{n+1} = C_n + 2 + \\lfloor log_2 n\\rfloor = C_{n-1} +2+\\lfloor log_2 (n-1)\\rfloor +2+\\lfloor log_2 n\\rfloor = \\dots = C_1 + 2n + \\sum_{k=1}^{n}\\lfloor log_2 k\\rfloor = 2n + \\sum_{k=1}^{n}\\lfloor log_2 k\\rfloor \n",
    "$$\n",
    "\n",
    "<br></br>\n",
    "\n",
    "Quindi $$C_{n} = 2(n-1) + \\sum_{k=1}^{n-1}\\lfloor log_2 k\\rfloor $$\n"
   ]
  },
  {
   "cell_type": "code",
   "execution_count": 202,
   "metadata": {
    "collapsed": true
   },
   "outputs": [],
   "source": [
    "import sympy\n",
    "import math\n",
    "import numpy\n",
    "from sympy import *\n",
    "from sympy.abc import x, n, k, z, t\n"
   ]
  },
  {
   "cell_type": "code",
   "execution_count": 203,
   "metadata": {
    "collapsed": false
   },
   "outputs": [
    {
     "data": {
      "image/png": "[encoded data removed]",
      "text/latex": [
       "$$\\lfloor{\\frac{\\log{\\left (n \\right )}}{\\log{\\left (2 \\right )}}}\\rfloor$$"
      ],
      "text/plain": [
       "⎢log(n)⎥\n",
       "⎢──────⎥\n",
       "⎣log(2)⎦"
      ]
     },
     "execution_count": 203,
     "metadata": {},
     "output_type": "execute_result"
    }
   ],
   "source": [
    "def f(n):\n",
    "        if n==0:\n",
    "            return 0\n",
    "        else:\n",
    "            return floor(log(n,2))\n",
    "f(n)"
   ]
  },
  {
   "cell_type": "markdown",
   "metadata": {},
   "source": [
    "La funzione appena definita,ossia $f(n) = \\lfloor log_2 n\\rfloor$, ritornerà, dunque, i seguenti valori per n $\\geq$ 0\n",
    "\n",
    "0,0,1,1,2,2,2,2,3,3,3,3,3,3,3,3,4,4,4,4,4,4,4,4,4,4,4,4,4,4,4,4, $\\dots$\n",
    "\n",
    "dove\n",
    "\n",
    "il numero di 1 è $2^1 = 2$\n",
    "    \n",
    "il numero di 2 è $2^2 = 4$\n",
    "\n",
    "il numero di 3 è $2^3 = 8$\n",
    "\n",
    "il numero di 4 è $2^4 = 16$\n",
    "\n",
    "$\\dots$\n",
    "\n"
   ]
  },
  {
   "cell_type": "code",
   "execution_count": null,
   "metadata": {
    "collapsed": false
   },
   "outputs": [],
   "source": []
  }
 ],
 "metadata": {
  "kernelspec": {
   "display_name": "Python 3",
   "language": "python",
   "name": "python3"
  },
  "language_info": {
   "codemirror_mode": {
    "name": "ipython",
    "version": 3
   },
   "file_extension": ".py",
   "mimetype": "text/x-python",
   "name": "python",
   "nbconvert_exporter": "python",
   "pygments_lexer": "ipython3",
   "version": "3.5.1"
  }
 },
 "nbformat": 4,
 "nbformat_minor": 0
}
