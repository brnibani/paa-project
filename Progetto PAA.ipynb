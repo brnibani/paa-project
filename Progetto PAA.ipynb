{
 "cells": [
  {
   "cell_type": "markdown",
   "metadata": {},
   "source": [
    "# PAA Project, a.y. 2015/2016\n",
    "## Average number of checks for Quicksort\n",
    "\n",
    "Authors:\n",
    "- Tommaso Papini, 5537529 ([mail][mail-tom] [Github][git-tom])\n",
    "- Gabriele Bani, 5719258 ([mail][mail-gab] [Github][git-gab])\n",
    "\n",
    "[mail-tom]: mailto:tommaso.papini1@stud.unifi.it\n",
    "[git-tom]: https://github.com/oddlord\n",
    "[mail-gab]: mailto:gabriele.bani@stud.unifi.it\n",
    "[git-gab]: https://github.com/brnibani\n"
   ]
  },
  {
   "cell_type": "markdown",
   "metadata": {},
   "source": [
    "### Introduction\n",
    "The aim of this notebook is to provide an explanation on how to get the formula to calculate the (exact) average number of checks done by the [Quicksort][quicksort] algorithm on arrays of length $n$.\n",
    "\n",
    "In particular this notebook will be very [symbolic computation][symb-comp] oriented, which means that most of the passages needed to get to the final form of our formula will be done using a symbolic computation package for [Python][python], called [sympy][sympy].\n",
    "\n",
    "With sympy we'll be able to rewrite and manipulate our recurrence to finally obtain the goal function that computes the average number of checks, given the array length $n$.\n",
    "\n",
    "[quicksort]: https://en.wikipedia.org/wiki/Quicksort\n",
    "[symb-comp]: https://en.wikipedia.org/wiki/Symbolic_computation\n",
    "[python]: https://www.python.org/\n",
    "[sympy]: http://www.sympy.org/en/index.html"
   ]
  },
  {
   "cell_type": "markdown",
   "metadata": {},
   "source": [
    "### Some initial imports\n",
    "Before with start with the cool stuff, let's first import the basic packages we're gonna need for the rest of the notebook!"
   ]
  },
  {
   "cell_type": "code",
   "execution_count": 31,
   "metadata": {
    "collapsed": false
   },
   "outputs": [],
   "source": [
    "import numpy\n",
    "from sympy import *\n",
    "from sympy.abc import x, n, z, t, j, k\n",
    "\n",
    "init_printing()"
   ]
  },
  {
   "cell_type": "markdown",
   "metadata": {},
   "source": [
    "### Quicksort implementation with checks counting\n",
    "Here we provide the Quicksort implementation that will be used for the rest of the notebook.\n",
    "\n",
    "As you might know, the number of checks/swaps might vary greatly from one implementation to another of the same algorithm, so it's mandatory to set in stone right away which specific implementation we're gonna use.\n",
    "\n",
    "In this implementation the inputs $v$, $l$ and $r$ represents, respectively, the array to be sorted and the left and right indexes of the array.\n",
    "The pivot is always the rightmost element of the array, i.e. $v[r]$.\n",
    "\n",
    "Also, we included a checks counting, so that later on we can also run some simulation to gather some actual number to compare with the function output (and check if the results are consistent!).\n",
    "The algorithm will return the number of checks done $nc$."
   ]
  },
  {
   "cell_type": "code",
   "execution_count": 32,
   "metadata": {
    "collapsed": true
   },
   "outputs": [],
   "source": [
    "def quick(v,l,r):\n",
    "    nc = 0;\n",
    "    if (r - l) >= 0:\n",
    "        p = v[r]\n",
    "        i = l - 1\n",
    "        j = r\n",
    "        while i < j:\n",
    "            i += 1\n",
    "            nc += 1\n",
    "            while v[i] < p:\n",
    "                i += 1\n",
    "                nc += 1\n",
    "            j -= 1\n",
    "            nc += 1\n",
    "            while l <= j and p < v[j]:\n",
    "                j -= 1\n",
    "                nc += 1\n",
    "            if i < j:\n",
    "                a = v[i]\n",
    "                v[i] = v[j]\n",
    "                v[j] = a\n",
    "        a = v[i]\n",
    "        v[i] = p\n",
    "        v[r] = a\n",
    "        nc += quick(v,l,i-1)\n",
    "        nc += quick(v,i+1,r)\n",
    "    return nc"
   ]
  },
  {
   "cell_type": "markdown",
   "metadata": {},
   "source": [
    "### Closed form function\n",
    "Let's define the closed form of the function we're looking for, just to give a glimpse of what we're doing with a few examples.\n",
    "\n",
    "The function is\n",
    "$$C_n = 2(n+1)(H_{n+1}-1),$$\n",
    "where $C_n$ is the average checks with arrays of length $n$ and $H_{n}$ is the $n$-th [harmonic number][harm-num].\n",
    "\n",
    "[harm-num]: https://en.wikipedia.org/wiki/Harmonic_number"
   ]
  },
  {
   "cell_type": "code",
   "execution_count": 33,
   "metadata": {
    "collapsed": true
   },
   "outputs": [],
   "source": [
    "def checks_quicksort(n):\n",
    "    return 2*(n+1)*(harmonic(n+1).evalf()-1)"
   ]
  },
  {
   "cell_type": "markdown",
   "metadata": {},
   "source": [
    "### A couple of examples\n",
    "We provide here a couple of examples where we compare the result of the closed form function defined above with the actual number of checks done by our implementation of Quicksort on a random array."
   ]
  },
  {
   "cell_type": "code",
   "execution_count": 34,
   "metadata": {
    "collapsed": false
   },
   "outputs": [
    {
     "name": "stdout",
     "output_type": "stream",
     "text": [
      "Random array: [18  2  0  7  4  3  1  8 11 10 14  6 12 17 13 15 16  9  5 19]\n",
      "Array after Quicksort: [ 0  1  2  3  4  5  6  7  8  9 10 11 12 13 14 15 16 17 18 19]\n",
      "Quicksort count: 134.00000; closed-form: 111.10507\n"
     ]
    }
   ],
   "source": [
    "random_perm = numpy.random.permutation(20)\n",
    "print (\"Random array: %s\" % (random_perm))\n",
    "checks = quick(random_perm,0,19)\n",
    "print (\"Array after Quicksort: %s\" % (random_perm))\n",
    "print (\"Quicksort count: %.5f; closed-form: %.5f\" % (checks, checks_quicksort(20)))"
   ]
  },
  {
   "cell_type": "code",
   "execution_count": 35,
   "metadata": {
    "collapsed": false
   },
   "outputs": [
    {
     "name": "stdout",
     "output_type": "stream",
     "text": [
      "Random array: [0 1 3 2]\n",
      "Array after Quicksort: [0 1 2 3]\n",
      "Quicksort count: 12.00000; closed-form: 12.83333\n"
     ]
    }
   ],
   "source": [
    "random_perm = numpy.random.permutation(4)\n",
    "print (\"Random array: %s\" % (random_perm))\n",
    "checks = quick(random_perm,0,3)\n",
    "print (\"Array after Quicksort: %s\" % (random_perm))\n",
    "print (\"Quicksort count: %.5f; closed-form: %.5f\" % (checks, checks_quicksort(4)))"
   ]
  },
  {
   "cell_type": "markdown",
   "metadata": {},
   "source": [
    "### Main recurrence\n",
    "Let the dance commence!\n",
    "\n",
    "The first thing we need is to define a recurrence that describes the average number of checks done by our Quicksort implementations.\n",
    "\n",
    "Why a recurrence, you might ask? because the Quicksort is a recursive algorithm and recurrences are the mathematical counterpart of recursive algorithms: a recursive algorithm is described by a recurrence and a recurrence can be evaluated by running a recursive algorithm.\n",
    "\n",
    "But evaluating a recurrence can be sometimes very expensive, in terms of both space and time. So what we usually try to do is to **solve** the recurrence, which means try to rewrite and manipulate the recurrence until we obtain a closed form.\n",
    "Since the closed form is more direct and does not involve calling the same function over and over multiple times, it's often preferrable to the recurrence evaluation as it'll save precious resources.\n",
    "\n",
    "To obtain the closed form of the recurrence that describes the checks in the Quicksort is the goal of this notebook.\n",
    "In particular we'll see two different approaches to get from the recurrence to the closed form: the *difference method* and the *genetaring function method*."
   ]
  },
  {
   "cell_type": "markdown",
   "metadata": {},
   "source": [
    "#### Getting the recurrence\n",
    "So let's start with defining the recurrence that describes the average number of checks done by our Quicksort implementation.\n",
    "\n",
    "How many checks does a single Quicksort call do?\n",
    "$$n+1$$\n",
    "In fact we can notice that our algorithm does a check each time the indexes $i$ and $j$ are increased/decreased. Since these indexes have to scan all the elements that are not the pivot until they cross, we have $n-1$ checks (for $n-1$ elements that are not the pivot) plus $2$ checks to let the indexes cross, for a total of $n+1$.\n",
    "\n",
    "Now we have to consider the checks done by the two recursive calls.\n",
    "If the pivot is $k$, then the checks of the two calls will be given by\n",
    "$$C_{k-1}+C_{n-k}$$\n",
    "\n",
    "But since we're analyzing the average number of checks, we have to consider every possible configuration we can find. The number of checks done by the two recursive calls depends on the value of the pivot, i.e. the rightmost element, that can have $n$ different values (from $1$ to $n$).\n",
    "\n",
    "Also, among the $n!$ possible permutations, only $(n-1)!$ have $k$ in the last position. This means that the probability of having a combination with $k$ as pivot is:\n",
    "$$\\frac{(n-1)!}{n!}=\\frac{1}{n}$$\n",
    "\n",
    "If we put everything together we finally obtain the recurrence:\n",
    "$$C_n = n+1+\\frac{1}{n}\\sum_{k=1}^{n}(C_{k-1}+C_{n-k})$$\n",
    "With initial contition $C_0 = 0$.\n",
    "\n",
    "Before we can mov on to the next step, we can notice that inside the summation, each recursive call appears exactly twice and also that the actual indexes of the recursive calls range from $0$ to $n-1$. This means that:\n",
    "$$\\sum_{k=1}^{n}(C_{k-1}+C_{n-k}) = 2\\sum_{k=0}^{n-1}C_k$$\n",
    "\n",
    "That said, we can rewrite the recurrence in a much simpler way:\n",
    "$$C_n = n+1 + \\frac{2}{n}\\sum_{k=0}^{n-1}C_k$$"
   ]
  },
  {
   "cell_type": "markdown",
   "metadata": {},
   "source": [
    "#### Python version\n",
    "Below we provide a python implementation of the above recurrence, so that we can later compare it with the results of the closed form function and the actual checks from the algoritms."
   ]
  },
  {
   "cell_type": "code",
   "execution_count": 36,
   "metadata": {
    "collapsed": false
   },
   "outputs": [
    {
     "name": "stdout",
     "output_type": "stream",
     "text": [
      "Quicksort count: 112.00000; closed-form: 111.10507; recurrence: 111.10507\n",
      "Time Quicksort count: 0.00033 s; Time closed-form: 0.00055 s; Time recurrence: 0.40983 s\n"
     ]
    }
   ],
   "source": [
    "def C_py(n):\n",
    "    if n == 0:\n",
    "        return 0\n",
    "    else:\n",
    "        Cn = 0.0\n",
    "        for k in range(0, n):\n",
    "            Cn += C_py(k)\n",
    "        return n+1+(2.0/n)*Cn\n",
    "random_perm = numpy.random.permutation(20)\n",
    "import timeit\n",
    "start1 = timeit.default_timer()\n",
    "quicksort_count = quick(random_perm,0,19)\n",
    "stop1 = timeit.default_timer()\n",
    "start2 = timeit.default_timer()\n",
    "checks = checks_quicksort(20)\n",
    "stop2 = timeit.default_timer()\n",
    "start3 = timeit.default_timer()\n",
    "rec_quicksort = C_py(20)\n",
    "stop3 = timeit.default_timer()\n",
    "print (\"Quicksort count: %.5f; closed-form: %.5f; recurrence: %.5f\" % (quicksort_count, checks, rec_quicksort))\n",
    "print (\"Time Quicksort count: %.5f s; Time closed-form: %.5f s; Time recurrence: %.5f s\" % (stop1 - start1,stop2 - start2,\n",
    "                                                                                                                stop3-start3))"
   ]
  },
  {
   "cell_type": "markdown",
   "metadata": {},
   "source": [
    "#### sympy version\n",
    "Let's start using sympy, the python package for symbolic computation.\n",
    "\n",
    "We start by defining the recurrence as seen above, in sympy sintax."
   ]
  },
  {
   "cell_type": "code",
   "execution_count": 37,
   "metadata": {
    "collapsed": false
   },
   "outputs": [
    {
     "data": {
      "image/png": "[encoded data removed]",
      "text/latex": [
       "$$C{\\left (n \\right )} = n + 1 + \\frac{2}{n} \\sum_{k=0}^{n - 1} C{\\left (k \\right )}$$"
      ],
      "text/plain": [
       "                 n - 1     \n",
       "                  ___      \n",
       "                  ╲        \n",
       "                   ╲   C(k)\n",
       "               2⋅  ╱       \n",
       "                  ╱        \n",
       "                  ‾‾‾      \n",
       "                 k = 0     \n",
       "C(n) = n + 1 + ────────────\n",
       "                    n      "
      ]
     },
     "execution_count": 37,
     "metadata": {},
     "output_type": "execute_result"
    }
   ],
   "source": [
    "C_fun = Function('C')\n",
    "base_rec = Eq(C_fun(n), n+1+(2/n)*Sum(C_fun(k), (k, 0, n-1)))\n",
    "base_rec"
   ]
  },
  {
   "cell_type": "markdown",
   "metadata": {},
   "source": [
    "#### Are we lucky?\n",
    "sympy provides a function called *rsolve*, which tries to automatically solve a recurrence and calculate it's closed form.\n",
    "\n",
    "Let's try to see if are lucky and our recurrence is easy enough to be solved automatically by sympy."
   ]
  },
  {
   "cell_type": "code",
   "execution_count": 38,
   "metadata": {
    "collapsed": false
   },
   "outputs": [
    {
     "name": "stdout",
     "output_type": "stream",
     "text": [
      "None\n"
     ]
    }
   ],
   "source": [
    "print (rsolve(base_rec, C_fun(n), {C_fun(0):0}))"
   ]
  },
  {
   "cell_type": "markdown",
   "metadata": {},
   "source": [
    "Nope... :(\n",
    "\n",
    "So let's begin with the first approach, the *difference method*."
   ]
  },
  {
   "cell_type": "markdown",
   "metadata": {},
   "source": [
    "### Recurrence solving (difference method)"
   ]
  },
  {
   "cell_type": "markdown",
   "metadata": {},
   "source": [
    "#### Auxiliary function to apply the same operation to a number and two sided of an Eq"
   ]
  },
  {
   "cell_type": "code",
   "execution_count": 39,
   "metadata": {
    "collapsed": false
   },
   "outputs": [],
   "source": [
    "def do_both(eq, n, op):\n",
    "    return Eq(op(eq.lhs, n), op(eq.rhs, n))"
   ]
  },
  {
   "cell_type": "markdown",
   "metadata": {},
   "source": [
    "#### Multiply by n both sides"
   ]
  },
  {
   "cell_type": "code",
   "execution_count": 40,
   "metadata": {
    "collapsed": false
   },
   "outputs": [
    {
     "data": {
      "image/png": "[encoded data removed]",
      "text/latex": [
       "$$n C{\\left (n \\right )} = n \\left(n + 1\\right) + \\sum_{k=0}^{n - 1} 2 C{\\left (k \\right )}$$"
      ],
      "text/plain": [
       "                     n - 1       \n",
       "                      ___        \n",
       "                      ╲          \n",
       "                       ╲   2⋅C(k)\n",
       "n⋅C(n) = n⋅(n + 1) +   ╱         \n",
       "                      ╱          \n",
       "                      ‾‾‾        \n",
       "                     k = 0       "
      ]
     },
     "execution_count": 40,
     "metadata": {},
     "output_type": "execute_result"
    }
   ],
   "source": [
    "base_rec2 = do_both(base_rec, n, lambda x,y: x*y).simplify()\n",
    "base_rec2"
   ]
  },
  {
   "cell_type": "markdown",
   "metadata": {},
   "source": [
    "#### The above is valid forall $n$, so it's valid for $n-1$ as well"
   ]
  },
  {
   "cell_type": "code",
   "execution_count": 41,
   "metadata": {
    "collapsed": false
   },
   "outputs": [
    {
     "data": {
      "image/png": "[encoded data removed]",
      "text/latex": [
       "$$\\left(n - 1\\right) C{\\left (n - 1 \\right )} = n \\left(n - 1\\right) + \\sum_{k=0}^{n - 2} 2 C{\\left (k \\right )}$$"
      ],
      "text/plain": [
       "                               n - 2       \n",
       "                                ___        \n",
       "                                ╲          \n",
       "                                 ╲   2⋅C(k)\n",
       "(n - 1)⋅C(n - 1) = n⋅(n - 1) +   ╱         \n",
       "                                ╱          \n",
       "                                ‾‾‾        \n",
       "                               k = 0       "
      ]
     },
     "execution_count": 41,
     "metadata": {},
     "output_type": "execute_result"
    }
   ],
   "source": [
    "base_rec2_prev = base_rec2.subs(n, n-1).simplify()\n",
    "base_rec2_prev"
   ]
  },
  {
   "cell_type": "markdown",
   "metadata": {},
   "source": [
    "#### Auxiliary function to apply an operation to two Eqs sidewise"
   ]
  },
  {
   "cell_type": "code",
   "execution_count": 42,
   "metadata": {
    "collapsed": true
   },
   "outputs": [],
   "source": [
    "def do_eqs(eq1, eq2, op):\n",
    "    return Eq(op(eq1.lhs, eq2.lhs), op(eq1.rhs, eq2.rhs))"
   ]
  },
  {
   "cell_type": "markdown",
   "metadata": {},
   "source": [
    "#### Application of the difference method"
   ]
  },
  {
   "cell_type": "code",
   "execution_count": 43,
   "metadata": {
    "collapsed": false
   },
   "outputs": [
    {
     "data": {
      "image/png": "[encoded data removed]",
      "text/latex": [
       "$$n C{\\left (n \\right )} - \\left(n - 1\\right) C{\\left (n - 1 \\right )} = 2 n + \\sum_{k=0}^{n - 2} - 2 C{\\left (k \\right )} + \\sum_{k=0}^{n - 1} 2 C{\\left (k \\right )}$$"
      ],
      "text/plain": [
       "                                  n - 2           n - 1       \n",
       "                                   ___             ___        \n",
       "                                   ╲               ╲          \n",
       "                                    ╲   -2⋅C(k)     ╲   2⋅C(k)\n",
       "n⋅C(n) - (n - 1)⋅C(n - 1) = 2⋅n +   ╱           +   ╱         \n",
       "                                   ╱               ╱          \n",
       "                                   ‾‾‾             ‾‾‾        \n",
       "                                  k = 0           k = 0       "
      ]
     },
     "execution_count": 43,
     "metadata": {},
     "output_type": "execute_result"
    }
   ],
   "source": [
    "diff_rec = do_eqs(base_rec2, base_rec2_prev, lambda x,y: x-y).simplify()\n",
    "diff_rec"
   ]
  },
  {
   "cell_type": "markdown",
   "metadata": {},
   "source": [
    "#### Auxiliary function to extract the last term of a summation and substitute inside an Eq"
   ]
  },
  {
   "cell_type": "code",
   "execution_count": 44,
   "metadata": {
    "collapsed": false
   },
   "outputs": [],
   "source": [
    "def extract_last_term_subs(eq, old_sum):\n",
    "    sum_args = old_sum.args\n",
    "    f = sum_args[0]\n",
    "    indexes = sum_args[1]\n",
    "    new_sum = Sum(f, (indexes[0], indexes[1], indexes[2]-1)) + f.subs(indexes[0], indexes[2])\n",
    "    return eq.subs(old_sum, new_sum)"
   ]
  },
  {
   "cell_type": "markdown",
   "metadata": {},
   "source": [
    "#### Extract term $n-1$ and simplify summations"
   ]
  },
  {
   "cell_type": "code",
   "execution_count": 45,
   "metadata": {
    "collapsed": false
   },
   "outputs": [
    {
     "data": {
      "image/png": "[encoded data removed]",
      "text/latex": [
       "$$n C{\\left (n \\right )} - \\left(n - 1\\right) C{\\left (n - 1 \\right )} = 2 n + 2 C{\\left (n - 1 \\right )}$$"
      ],
      "text/plain": [
       "n⋅C(n) - (n - 1)⋅C(n - 1) = 2⋅n + 2⋅C(n - 1)"
      ]
     },
     "execution_count": 45,
     "metadata": {},
     "output_type": "execute_result"
    }
   ],
   "source": [
    "diff_rec2 = extract_last_term_subs(diff_rec, Sum(2*C_fun(k), (k, 0, n-1))).simplify().doit()\n",
    "diff_rec2"
   ]
  },
  {
   "cell_type": "markdown",
   "metadata": {},
   "source": [
    "#### Move $(n-1)C(n-1)$ to the other side and group by $C(n-1)$"
   ]
  },
  {
   "cell_type": "code",
   "execution_count": 46,
   "metadata": {
    "collapsed": false
   },
   "outputs": [
    {
     "data": {
      "image/png": "[encoded data removed]",
      "text/latex": [
       "$$n C{\\left (n \\right )} = 2 n + \\left(n + 1\\right) C{\\left (n - 1 \\right )}$$"
      ],
      "text/plain": [
       "n⋅C(n) = 2⋅n + (n + 1)⋅C(n - 1)"
      ]
     },
     "execution_count": 46,
     "metadata": {},
     "output_type": "execute_result"
    }
   ],
   "source": [
    "new_rec = do_both(diff_rec2, (n-1)*C_fun(n-1), lambda x,y: x+y).simplify().factor(C_fun(n-1))\n",
    "new_rec"
   ]
  },
  {
   "cell_type": "markdown",
   "metadata": {},
   "source": [
    "#### Divide both sides by $n(n-1)$"
   ]
  },
  {
   "cell_type": "code",
   "execution_count": 47,
   "metadata": {
    "collapsed": false,
    "scrolled": true
   },
   "outputs": [
    {
     "data": {
      "image/png": "[encoded data removed]",
      "text/latex": [
       "$$\\frac{C{\\left (n \\right )}}{n + 1} = \\frac{2}{n + 1} + \\frac{1}{n} C{\\left (n - 1 \\right )}$$"
      ],
      "text/plain": [
       " C(n)     2     C(n - 1)\n",
       "───── = ───── + ────────\n",
       "n + 1   n + 1      n    "
      ]
     },
     "execution_count": 47,
     "metadata": {},
     "output_type": "execute_result"
    }
   ],
   "source": [
    "div_rec  = apart(do_both(new_rec, n*(n+1), lambda x,y: x/y), C_fun(n-1))\n",
    "div_rec"
   ]
  },
  {
   "cell_type": "markdown",
   "metadata": {},
   "source": [
    "#### Let's iterate!"
   ]
  },
  {
   "cell_type": "code",
   "execution_count": 48,
   "metadata": {
    "collapsed": false
   },
   "outputs": [
    {
     "data": {
      "image/png": "[encoded data removed]",
      "text/latex": [
       "$$\\frac{C{\\left (n \\right )}}{n + 1} = \\frac{2}{n + 1} + \\frac{C{\\left (n - 2 \\right )}}{n - 1} + \\frac{2}{n}$$"
      ],
      "text/plain": [
       " C(n)     2     C(n - 2)   2\n",
       "───── = ───── + ──────── + ─\n",
       "n + 1   n + 1    n - 1     n"
      ]
     },
     "execution_count": 48,
     "metadata": {},
     "output_type": "execute_result"
    }
   ],
   "source": [
    "div_rec2 = div_rec.subs(C_fun(n-1)/n, div_rec.subs(n, n-1).rhs)\n",
    "div_rec2"
   ]
  },
  {
   "cell_type": "code",
   "execution_count": 49,
   "metadata": {
    "collapsed": false
   },
   "outputs": [
    {
     "data": {
      "image/png": "[encoded data removed]",
      "text/latex": [
       "$$\\frac{C{\\left (n \\right )}}{n + 1} = \\frac{2}{n + 1} + \\frac{2}{n - 1} + \\frac{C{\\left (n - 3 \\right )}}{n - 2} + \\frac{2}{n}$$"
      ],
      "text/plain": [
       " C(n)     2       2     C(n - 3)   2\n",
       "───── = ───── + ───── + ──────── + ─\n",
       "n + 1   n + 1   n - 1    n - 2     n"
      ]
     },
     "execution_count": 49,
     "metadata": {},
     "output_type": "execute_result"
    }
   ],
   "source": [
    "div_rec3 = div_rec2.subs(C_fun(n-2)/(n-1), div_rec.subs(n, n-2).rhs)\n",
    "div_rec3"
   ]
  },
  {
   "cell_type": "markdown",
   "metadata": {},
   "source": [
    "#### All the way to $C(0)$ //check if it's correct (there's no other way?)"
   ]
  },
  {
   "cell_type": "code",
   "execution_count": 50,
   "metadata": {
    "collapsed": false
   },
   "outputs": [
    {
     "data": {
      "image/png": "[encoded data removed]",
      "text/latex": [
       "$$\\frac{C{\\left (n \\right )}}{n + 1} = C{\\left (0 \\right )} + \\sum_{k=2}^{n + 1} \\frac{2}{k}$$"
      ],
      "text/plain": [
       "               n + 1  \n",
       "                ____  \n",
       "                ╲     \n",
       "                 ╲   2\n",
       " C(n)             ╲  ─\n",
       "───── = C(0) +    ╱  k\n",
       "n + 1            ╱    \n",
       "                ╱     \n",
       "                ‾‾‾‾  \n",
       "               k = 2  "
      ]
     },
     "execution_count": 50,
     "metadata": {},
     "output_type": "execute_result"
    }
   ],
   "source": [
    "div_rec_final = Eq(div_rec.lhs, Sum(2/k, (k, 2, n+1))+C_fun(0)/(n-n+1))\n",
    "div_rec_final"
   ]
  },
  {
   "cell_type": "markdown",
   "metadata": {},
   "source": [
    "#### But $C(0)=0$ (initial condition)"
   ]
  },
  {
   "cell_type": "code",
   "execution_count": 51,
   "metadata": {
    "collapsed": false
   },
   "outputs": [
    {
     "data": {
      "image/png": "[encoded data removed]",
      "text/latex": [
       "$$\\frac{C{\\left (n \\right )}}{n + 1} = 2 \\sum_{k=2}^{n + 1} \\frac{1}{k}$$"
      ],
      "text/plain": [
       "          n + 1  \n",
       "           ____  \n",
       "           ╲     \n",
       "            ╲   1\n",
       " C(n)        ╲  ─\n",
       "───── = 2⋅   ╱  k\n",
       "n + 1       ╱    \n",
       "           ╱     \n",
       "           ‾‾‾‾  \n",
       "          k = 2  "
      ]
     },
     "execution_count": 51,
     "metadata": {},
     "output_type": "execute_result"
    }
   ],
   "source": [
    "div_rec_final2 = div_rec_final.subs(C_fun(0), 0).factor()\n",
    "div_rec_final2"
   ]
  },
  {
   "cell_type": "markdown",
   "metadata": {},
   "source": [
    "#### Auxiliary function to add a missing first term in a summation and substitute inside an Eq"
   ]
  },
  {
   "cell_type": "code",
   "execution_count": 52,
   "metadata": {
    "collapsed": true
   },
   "outputs": [],
   "source": [
    "def add_missing_first_term_subs(eq, old_sum):\n",
    "    sum_args = old_sum.args\n",
    "    f = sum_args[0]\n",
    "    indexes = sum_args[1]\n",
    "    new_sum = Sum(f, (indexes[0], indexes[1]-1, indexes[2])) - f.subs(indexes[0], indexes[1]-1)\n",
    "    return eq.subs(old_sum, new_sum)"
   ]
  },
  {
   "cell_type": "markdown",
   "metadata": {},
   "source": [
    "#### Let's add the missing first term to the summation above"
   ]
  },
  {
   "cell_type": "code",
   "execution_count": 53,
   "metadata": {
    "collapsed": false
   },
   "outputs": [
    {
     "data": {
      "image/png": "[encoded data removed]",
      "text/latex": [
       "$$\\frac{C{\\left (n \\right )}}{n + 1} = 2 \\left(\\sum_{k=1}^{n + 1} \\frac{1}{k} - 1\\right)$$"
      ],
      "text/plain": [
       "          ⎛n + 1      ⎞\n",
       "          ⎜ ____      ⎟\n",
       "          ⎜ ╲         ⎟\n",
       "          ⎜  ╲   1    ⎟\n",
       " C(n)     ⎜   ╲  ─    ⎟\n",
       "───── = 2⋅⎜   ╱  k - 1⎟\n",
       "n + 1     ⎜  ╱        ⎟\n",
       "          ⎜ ╱         ⎟\n",
       "          ⎜ ‾‾‾‾      ⎟\n",
       "          ⎝k = 1      ⎠"
      ]
     },
     "execution_count": 53,
     "metadata": {},
     "output_type": "execute_result"
    }
   ],
   "source": [
    "div_rec_final3 = add_missing_first_term_subs(div_rec_final2, Sum(1/k, (k, 2, n+1))).factor()\n",
    "div_rec_final3"
   ]
  },
  {
   "cell_type": "markdown",
   "metadata": {},
   "source": [
    "#### That summation above is the harmonic series! //subs is so ugly! we need some rewrite magic here! "
   ]
  },
  {
   "cell_type": "code",
   "execution_count": 54,
   "metadata": {
    "collapsed": false
   },
   "outputs": [
    {
     "data": {
      "image/png": "[encoded data removed]",
      "text/latex": [
       "$$\\frac{C{\\left (n \\right )}}{n + 1} = 2 \\left(\\operatorname{harmonic}{\\left (n + 1 \\right )} - 1\\right)$$"
      ],
      "text/plain": [
       " C(n)                          \n",
       "───── = 2⋅(harmonic(n + 1) - 1)\n",
       "n + 1                          "
      ]
     },
     "execution_count": 54,
     "metadata": {},
     "output_type": "execute_result"
    }
   ],
   "source": [
    "div_rec_final_harm = div_rec_final3.subs(Sum(1/k, (k, 1, n+1)),harmonic(n+1)).factor()\n",
    "div_rec_final_harm"
   ]
  },
  {
   "cell_type": "markdown",
   "metadata": {},
   "source": [
    "#### Let's finally obtain the closed form by multiplying both sides by $(n+1)$"
   ]
  },
  {
   "cell_type": "code",
   "execution_count": 55,
   "metadata": {
    "collapsed": false
   },
   "outputs": [
    {
     "data": {
      "image/png": "[encoded data removed]",
      "text/latex": [
       "$$C{\\left (n \\right )} = 2 \\left(n + 1\\right) \\left(\\operatorname{harmonic}{\\left (n + 1 \\right )} - 1\\right)$$"
      ],
      "text/plain": [
       "C(n) = 2⋅(n + 1)⋅(harmonic(n + 1) - 1)"
      ]
     },
     "execution_count": 55,
     "metadata": {},
     "output_type": "execute_result"
    }
   ],
   "source": [
    "closed_form = do_both(div_rec_final_harm,n+1,lambda x,y: x*y).factor()\n",
    "closed_form"
   ]
  },
  {
   "cell_type": "markdown",
   "metadata": {},
   "source": [
    "### Recurrence solving (generating function method)"
   ]
  },
  {
   "cell_type": "code",
   "execution_count": 56,
   "metadata": {
    "collapsed": false
   },
   "outputs": [
    {
     "data": {
      "image/png": "[encoded data removed]",
      "text/latex": [
       "$$C{\\left (n \\right )} = n + 1 + \\frac{2}{n} \\sum_{k=0}^{n - 1} C{\\left (k \\right )}$$"
      ],
      "text/plain": [
       "                 n - 1     \n",
       "                  ___      \n",
       "                  ╲        \n",
       "                   ╲   C(k)\n",
       "               2⋅  ╱       \n",
       "                  ╱        \n",
       "                  ‾‾‾      \n",
       "                 k = 0     \n",
       "C(n) = n + 1 + ────────────\n",
       "                    n      "
      ]
     },
     "execution_count": 56,
     "metadata": {},
     "output_type": "execute_result"
    }
   ],
   "source": [
    "base_rec"
   ]
  },
  {
   "cell_type": "code",
   "execution_count": 57,
   "metadata": {
    "collapsed": false
   },
   "outputs": [
    {
     "data": {
      "image/png": "[encoded data removed]",
      "text/latex": [
       "$$n C{\\left (n \\right )} = n \\left(n + 1\\right) + \\sum_{k=0}^{n - 1} 2 C{\\left (k \\right )}$$"
      ],
      "text/plain": [
       "                     n - 1       \n",
       "                      ___        \n",
       "                      ╲          \n",
       "                       ╲   2⋅C(k)\n",
       "n⋅C(n) = n⋅(n + 1) +   ╱         \n",
       "                      ╱          \n",
       "                      ‾‾‾        \n",
       "                     k = 0       "
      ]
     },
     "execution_count": 57,
     "metadata": {},
     "output_type": "execute_result"
    }
   ],
   "source": [
    "base_rec2"
   ]
  },
  {
   "cell_type": "code",
   "execution_count": 58,
   "metadata": {
    "collapsed": false
   },
   "outputs": [
    {
     "data": {
      "image/png": "[encoded data removed]",
      "text/latex": [
       "$$\\mathcal{G}{\\left (a_{n} \\right )}$$"
      ],
      "text/plain": [
       "\\mathcal{G}(a[n])"
      ]
     },
     "execution_count": 58,
     "metadata": {},
     "output_type": "execute_result"
    }
   ],
   "source": [
    "G = Function('\\mathcal{G}');\n",
    "a = indexed.IndexedBase('a')\n",
    "G(a[n])"
   ]
  },
  {
   "cell_type": "code",
   "execution_count": 59,
   "metadata": {
    "collapsed": false
   },
   "outputs": [
    {
     "data": {
      "image/png": "[encoded data removed]",
      "text/latex": [
       "$$\\mathcal{G}{\\left (n C{\\left (n \\right )} \\right )} = \\mathcal{G}{\\left (n \\left(n + 1\\right) + \\sum_{k=0}^{n - 1} 2 C{\\left (k \\right )} \\right )}$$"
      ],
      "text/plain": [
       "                                 ⎛            n - 1       ⎞\n",
       "                                 ⎜             ___        ⎟\n",
       "                                 ⎜             ╲          ⎟\n",
       "                                 ⎜              ╲   2⋅C(k)⎟\n",
       "\\mathcal{G}(n⋅C(n)) =            ⎜n⋅(n + 1) +   ╱         ⎟\n",
       "                                 ⎜             ╱          ⎟\n",
       "                                 ⎜             ‾‾‾        ⎟\n",
       "                      \\mathcal{G}⎝            k = 0       ⎠"
      ]
     },
     "execution_count": 59,
     "metadata": {},
     "output_type": "execute_result"
    }
   ],
   "source": [
    "def identity_principle(eq):\n",
    "    return Eq(G(eq.lhs), G(eq.rhs))\n",
    "g_rec = identity_principle(base_rec2)\n",
    "g_rec"
   ]
  },
  {
   "cell_type": "code",
   "execution_count": 64,
   "metadata": {
    "collapsed": false
   },
   "outputs": [
    {
     "data": {
      "image/png": "[encoded data removed]",
      "text/latex": [
       "$$\\left \\{ a : 1, \\quad b : 1, \\quad x : n^{2} + n, \\quad y : \\sum_{k=0}^{n - 1} 2 C{\\left (k \\right )}\\right \\}$$"
      ],
      "text/plain": [
       "⎧                          n - 1       ⎫\n",
       "⎪                           ___        ⎪\n",
       "⎪                           ╲          ⎪\n",
       "⎪                2           ╲   2⋅C(k)⎪\n",
       "⎨a: 1, b: 1, x: n  + n, y:   ╱         ⎬\n",
       "⎪                           ╱          ⎪\n",
       "⎪                           ‾‾‾        ⎪\n",
       "⎪                          k = 0       ⎪\n",
       "⎩                                      ⎭"
      ]
     },
     "execution_count": 64,
     "metadata": {},
     "output_type": "execute_result"
    }
   ],
   "source": [
    "x = Wild('x')\n",
    "a = Wild('a')\n",
    "y = Wild('y')\n",
    "b = Wild('b')\n",
    "def linearity(eq, g):\n",
    "    match = g.match(G(x*a+y*b))\n",
    "    return match\n",
    "linearity(g_rec, g_rec.rhs)"
   ]
  }
 ],
 "metadata": {
  "kernelspec": {
   "display_name": "Python 2",
   "language": "python",
   "name": "python2"
  },
  "language_info": {
   "codemirror_mode": {
    "name": "ipython",
    "version": 2
   },
   "file_extension": ".py",
   "mimetype": "text/x-python",
   "name": "python",
   "nbconvert_exporter": "python",
   "pygments_lexer": "ipython2",
   "version": "2.7.6"
  }
 },
 "nbformat": 4,
 "nbformat_minor": 0
}
