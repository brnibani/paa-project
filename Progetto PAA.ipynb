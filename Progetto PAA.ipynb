{
 "cells": [
  {
   "cell_type": "markdown",
   "metadata": {},
   "source": [
    "# Progetto PAA, a.a. 2015/2016\n",
    "\n",
    "Autori: Tommaso Papini (5537529), Gabriele Bani (5719258)\n",
    "\n",
    "## Quicksort\n",
    "\n",
    "## Mergesort\n",
    "Il **Mergesort** è un algoritmo di ordinamento ricorsivo, basato su confronti, che utilizza la tecnica del **divide et impera** per ordinare, ad esempio, un vettore di n elementi.\n",
    "\n",
    "Supponiamo di voler ordinare un vettore $a[1..n]$. Secondo l'implementazione del Mergesort vista a lezione, occorre:\n",
    "\n",
    "<ul>\n",
    "<li> suddividere, ricorsivamente, il vettore a in due parti fino ad arrivare all'insieme contenente un solo elemento</li>\n",
    "<li> ordinare e fondere i sottovettori partendo dai sottoinsiemi che hanno il minor numero di elementi\n",
    "</ul>\n",
    "\n",
    "Il numero di confronti del **Mergesort** è dato dalla seguente relazione di ricorrenza:\n",
    "\n",
    "$$\n",
    "C_n = C_{\\lfloor\\frac{n}{2}\\rfloor} + C_{\\lceil\\frac{n}{2}\\rceil} + n\\\\\n",
    "C_1 = 0\n",
    "$$\n",
    "\n",
    "Verifichiamo adesso che, se $n = 2^m$, allora $$C_n = n \\lfloor log_2 n\\rfloor - 2^{\\lfloor log_2 n\\rfloor +1} + 2n$$"
   ]
  }
 ],
 "metadata": {
  "kernelspec": {
   "display_name": "Python 3",
   "language": "python",
   "name": "python3"
  },
  "language_info": {
   "codemirror_mode": {
    "name": "ipython",
    "version": 3
   },
   "file_extension": ".py",
   "mimetype": "text/x-python",
   "name": "python",
   "nbconvert_exporter": "python",
   "pygments_lexer": "ipython3",
   "version": "3.5.1"
  }
 },
 "nbformat": 4,
 "nbformat_minor": 0
}
