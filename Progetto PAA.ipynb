{
 "cells": [
  {
   "cell_type": "markdown",
   "metadata": {},
   "source": [
    "# Progetto PAA, a.a. 2015/2016\n",
    "\n",
    "Autori: Tommaso Papini (5537529), Gabriele Bani (5719258)\n",
    "\n",
    "## Quicksort\n"
   ]
  },
  {
   "cell_type": "code",
   "execution_count": 525,
   "metadata": {
    "collapsed": true
   },
   "outputs": [],
   "source": [
    "import sympy\n",
    "import numpy\n",
    "from sympy import *\n",
    "from sympy.abc import x, n, z, t\n",
    "\n",
    "init_printing() # for nice printing, a-la' TeX"
   ]
  },
  {
   "cell_type": "code",
   "execution_count": 526,
   "metadata": {
    "collapsed": true
   },
   "outputs": [],
   "source": [
    "def contaquick(v,l,r):\n",
    "    #v is the array, l and r are the indexes of the quicksort (left and right)\n",
    "    p = Symbol('p')\n",
    "    i = Symbol('i')\n",
    "    j = Symbol('j')\n",
    "    a = Symbol('a')\n",
    "    nc = Symbol('nc') #nc is the number of checks made by the QuickSort Algorithm\n",
    "    nc = 0;\n",
    "    if r-l>=0:\n",
    "        p = v[r]\n",
    "        i = l-1\n",
    "        j = r\n",
    "        while i<j:\n",
    "            i=i+1\n",
    "            nc=nc+1\n",
    "            while v[i]<p:\n",
    "                i=i+1\n",
    "                nc=nc+1\n",
    "            j=j-1\n",
    "            nc=nc+1\n",
    "            while l<=j and p<v[j]:\n",
    "                j=j-1\n",
    "                nc=nc+1\n",
    "            if i<j:\n",
    "                a=v[i]\n",
    "                v[i]=v[j]\n",
    "                v[j]=a\n",
    "        a=v[i]\n",
    "        v[i]=p\n",
    "        v[r]=a\n",
    "        nc = nc + contaquick(v,l,i-1)\n",
    "        nc = nc + contaquick(v,i+1,r)\n",
    "    return nc"
   ]
  },
  {
   "cell_type": "code",
   "execution_count": 527,
   "metadata": {
    "collapsed": true
   },
   "outputs": [],
   "source": [
    "def checks_quicksort(n):\n",
    "    return 2*(n+1)*(harmonic(n+1).evalf()-1)"
   ]
  },
  {
   "cell_type": "code",
   "execution_count": 528,
   "metadata": {
    "collapsed": false
   },
   "outputs": [
    {
     "data": {
      "image/png": "[encoded data removed]",
      "text/latex": [
       "$$\\left [ 12, \\quad 11, \\quad 9, \\quad 13, \\quad 15, \\quad 6, \\quad 3, \\quad 20, \\quad 17, \\quad 14, \\quad 4, \\quad 19, \\quad 7, \\quad 2, \\quad 1, \\quad 10, \\quad 5, \\quad 18, \\quad 8, \\quad 16\\right ]$$"
      ],
      "text/plain": [
       "[12, 11, 9, 13, 15, 6, 3, 20, 17, 14, 4, 19, 7, 2, 1, 10, 5, 18, 8, 16]"
      ]
     },
     "execution_count": 528,
     "metadata": {},
     "output_type": "execute_result"
    }
   ],
   "source": [
    "permutazione_random = [12,11,9,13,15,6,3,20,17,14,4,19,7,2,1,10,5,18,8,16]\n",
    "permutazione_random"
   ]
  },
  {
   "cell_type": "code",
   "execution_count": 529,
   "metadata": {
    "collapsed": false
   },
   "outputs": [
    {
     "data": {
      "image/png": "[encoded data removed]",
      "text/latex": [
       "$$115$$"
      ],
      "text/plain": [
       "115"
      ]
     },
     "execution_count": 529,
     "metadata": {},
     "output_type": "execute_result"
    }
   ],
   "source": [
    "contaquick(permutazione_random,0,19)"
   ]
  },
  {
   "cell_type": "code",
   "execution_count": 530,
   "metadata": {
    "collapsed": false
   },
   "outputs": [
    {
     "data": {
      "image/png": "[encoded data removed]",
      "text/latex": [
       "$$\\left [ 1, \\quad 2, \\quad 3, \\quad 4, \\quad 5, \\quad 6, \\quad 7, \\quad 8, \\quad 9, \\quad 10, \\quad 11, \\quad 12, \\quad 13, \\quad 14, \\quad 15, \\quad 16, \\quad 17, \\quad 18, \\quad 19, \\quad 20\\right ]$$"
      ],
      "text/plain": [
       "[1, 2, 3, 4, 5, 6, 7, 8, 9, 10, 11, 12, 13, 14, 15, 16, 17, 18, 19, 20]"
      ]
     },
     "execution_count": 530,
     "metadata": {},
     "output_type": "execute_result"
    }
   ],
   "source": [
    "permutazione_random"
   ]
  },
  {
   "cell_type": "code",
   "execution_count": 531,
   "metadata": {
    "collapsed": false
   },
   "outputs": [
    {
     "data": {
      "image/png": "[encoded data removed]",
      "text/latex": [
       "$$\\left [ 13, \\quad 12, \\quad 7, \\quad 4, \\quad 10, \\quad 5, \\quad 17, \\quad 15, \\quad 18, \\quad 19, \\quad 1, \\quad 2, \\quad 14, \\quad 20, \\quad 11, \\quad 8, \\quad 6, \\quad 3, \\quad 16, \\quad 9\\right ]$$"
      ],
      "text/plain": [
       "[13, 12, 7, 4, 10, 5, 17, 15, 18, 19, 1, 2, 14, 20, 11, 8, 6, 3, 16, 9]"
      ]
     },
     "execution_count": 531,
     "metadata": {},
     "output_type": "execute_result"
    }
   ],
   "source": [
    "permutazione_random = [13,12,7,4,10,5,17,15,18,19,1,2,14,20,11,8,6,3,16,9]\n",
    "permutazione_random"
   ]
  },
  {
   "cell_type": "code",
   "execution_count": 532,
   "metadata": {
    "collapsed": false
   },
   "outputs": [
    {
     "data": {
      "image/png": "[encoded data removed]",
      "text/latex": [
       "$$107$$"
      ],
      "text/plain": [
       "107"
      ]
     },
     "execution_count": 532,
     "metadata": {},
     "output_type": "execute_result"
    }
   ],
   "source": [
    "contaquick(permutazione_random,0,19)"
   ]
  },
  {
   "cell_type": "code",
   "execution_count": 533,
   "metadata": {
    "collapsed": false
   },
   "outputs": [
    {
     "data": {
      "image/png": "[encoded data removed]",
      "text/latex": [
       "$$\\left [ 1, \\quad 2, \\quad 3, \\quad 4, \\quad 5, \\quad 6, \\quad 7, \\quad 8, \\quad 9, \\quad 10, \\quad 11, \\quad 12, \\quad 13, \\quad 14, \\quad 15, \\quad 16, \\quad 17, \\quad 18, \\quad 19, \\quad 20\\right ]$$"
      ],
      "text/plain": [
       "[1, 2, 3, 4, 5, 6, 7, 8, 9, 10, 11, 12, 13, 14, 15, 16, 17, 18, 19, 20]"
      ]
     },
     "execution_count": 533,
     "metadata": {},
     "output_type": "execute_result"
    }
   ],
   "source": [
    "permutazione_random"
   ]
  },
  {
   "cell_type": "code",
   "execution_count": 534,
   "metadata": {
    "collapsed": false
   },
   "outputs": [
    {
     "data": {
      "image/png": "[encoded data removed]",
      "text/latex": [
       "$$\\left [ 19, \\quad 7, \\quad 20, \\quad 18, \\quad 13, \\quad 9, \\quad 2, \\quad 5, \\quad 15, \\quad 3, \\quad 12, \\quad 6, \\quad 14, \\quad 10, \\quad 1, \\quad 16, \\quad 11, \\quad 17, \\quad 4, \\quad 8\\right ]$$"
      ],
      "text/plain": [
       "[19, 7, 20, 18, 13, 9, 2, 5, 15, 3, 12, 6, 14, 10, 1, 16, 11, 17, 4, 8]"
      ]
     },
     "execution_count": 534,
     "metadata": {},
     "output_type": "execute_result"
    }
   ],
   "source": [
    "permutazione_random = [19,7,20,18,13,9,2,5,15,3,12,6,14,10,1,16,11,17,4,8]\n",
    "permutazione_random"
   ]
  },
  {
   "cell_type": "code",
   "execution_count": 535,
   "metadata": {
    "collapsed": false
   },
   "outputs": [
    {
     "data": {
      "image/png": "[encoded data removed]",
      "text/latex": [
       "$$111$$"
      ],
      "text/plain": [
       "111"
      ]
     },
     "execution_count": 535,
     "metadata": {},
     "output_type": "execute_result"
    }
   ],
   "source": [
    "contaquick(permutazione_random,0,19)"
   ]
  },
  {
   "cell_type": "code",
   "execution_count": 536,
   "metadata": {
    "collapsed": false
   },
   "outputs": [
    {
     "data": {
      "image/png": "[encoded data removed]",
      "text/latex": [
       "$$\\left [ 1, \\quad 2, \\quad 3, \\quad 4, \\quad 5, \\quad 6, \\quad 7, \\quad 8, \\quad 9, \\quad 10, \\quad 11, \\quad 12, \\quad 13, \\quad 14, \\quad 15, \\quad 16, \\quad 17, \\quad 18, \\quad 19, \\quad 20\\right ]$$"
      ],
      "text/plain": [
       "[1, 2, 3, 4, 5, 6, 7, 8, 9, 10, 11, 12, 13, 14, 15, 16, 17, 18, 19, 20]"
      ]
     },
     "execution_count": 536,
     "metadata": {},
     "output_type": "execute_result"
    }
   ],
   "source": [
    "permutazione_random"
   ]
  },
  {
   "cell_type": "code",
   "execution_count": 537,
   "metadata": {
    "collapsed": false
   },
   "outputs": [
    {
     "data": {
      "text/plain": [
       "array([11, 16,  9, 15,  7,  0,  8, 17, 14,  2,  6,  4,  5, 13, 18, 10, 19,\n",
       "        1,  3, 12])"
      ]
     },
     "execution_count": 537,
     "metadata": {},
     "output_type": "execute_result"
    }
   ],
   "source": [
    "permutazione_random = numpy.random.permutation(20)\n",
    "permutazione_random"
   ]
  },
  {
   "cell_type": "code",
   "execution_count": 538,
   "metadata": {
    "collapsed": false
   },
   "outputs": [
    {
     "data": {
      "image/png": "[encoded data removed]",
      "text/latex": [
       "$$98$$"
      ],
      "text/plain": [
       "98"
      ]
     },
     "execution_count": 538,
     "metadata": {},
     "output_type": "execute_result"
    }
   ],
   "source": [
    "contaquick(permutazione_random,0,19)"
   ]
  },
  {
   "cell_type": "code",
   "execution_count": 539,
   "metadata": {
    "collapsed": false
   },
   "outputs": [
    {
     "data": {
      "text/plain": [
       "array([ 0,  1,  2,  3,  4,  5,  6,  7,  8,  9, 10, 11, 12, 13, 14, 15, 16,\n",
       "       17, 18, 19])"
      ]
     },
     "execution_count": 539,
     "metadata": {},
     "output_type": "execute_result"
    }
   ],
   "source": [
    "permutazione_random"
   ]
  },
  {
   "cell_type": "code",
   "execution_count": 540,
   "metadata": {
    "collapsed": false
   },
   "outputs": [
    {
     "data": {
      "image/png": "[encoded data removed]",
      "text/latex": [
       "$$111.105065600035$$"
      ],
      "text/plain": [
       "111.105065600035"
      ]
     },
     "execution_count": 540,
     "metadata": {},
     "output_type": "execute_result"
    }
   ],
   "source": [
    "checks_quicksort(20)"
   ]
  },
  {
   "cell_type": "code",
   "execution_count": 541,
   "metadata": {
    "collapsed": false
   },
   "outputs": [
    {
     "data": {
      "text/plain": [
       "array([0, 3, 1, 2])"
      ]
     },
     "execution_count": 541,
     "metadata": {},
     "output_type": "execute_result"
    }
   ],
   "source": [
    "permutazione_random = numpy.random.permutation(4)\n",
    "permutazione_random"
   ]
  },
  {
   "cell_type": "code",
   "execution_count": 542,
   "metadata": {
    "collapsed": false
   },
   "outputs": [
    {
     "data": {
      "image/png": "[encoded data removed]",
      "text/latex": [
       "$$12$$"
      ],
      "text/plain": [
       "12"
      ]
     },
     "execution_count": 542,
     "metadata": {},
     "output_type": "execute_result"
    }
   ],
   "source": [
    "contaquick(permutazione_random,0,3)"
   ]
  },
  {
   "cell_type": "code",
   "execution_count": 543,
   "metadata": {
    "collapsed": false
   },
   "outputs": [
    {
     "data": {
      "text/plain": [
       "array([0, 1, 2, 3])"
      ]
     },
     "execution_count": 543,
     "metadata": {},
     "output_type": "execute_result"
    }
   ],
   "source": [
    "permutazione_random"
   ]
  },
  {
   "cell_type": "code",
   "execution_count": 544,
   "metadata": {
    "collapsed": false
   },
   "outputs": [
    {
     "data": {
      "image/png": "[encoded data removed]",
      "text/latex": [
       "$$12.8333333333333$$"
      ],
      "text/plain": [
       "12.8333333333333"
      ]
     },
     "execution_count": 544,
     "metadata": {},
     "output_type": "execute_result"
    }
   ],
   "source": [
    "checks_quicksort(4)"
   ]
  }
 ],
 "metadata": {
  "kernelspec": {
   "display_name": "Python 3",
   "language": "python",
   "name": "python3"
  },
  "language_info": {
   "codemirror_mode": {
    "name": "ipython",
    "version": 3
   },
   "file_extension": ".py",
   "mimetype": "text/x-python",
   "name": "python",
   "nbconvert_exporter": "python",
   "pygments_lexer": "ipython3",
   "version": "3.5.1"
  }
 },
 "nbformat": 4,
 "nbformat_minor": 0
}
