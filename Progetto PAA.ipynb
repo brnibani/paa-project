{
 "cells": [
  {
   "cell_type": "markdown",
   "metadata": {},
   "source": [
    "# PAA Project, a.y. 2015/2016\n",
    "## Average number of checks for Quicksort\n",
    "\n",
    "Authors:\n",
    "- Tommaso Papini, 5537529 ([mail][mail-tom] [Github][git-tom])\n",
    "- Gabriele Bani, 5719258 ([mail][mail-gab] [Github][git-gab])\n",
    "\n",
    "[mail-tom]: mailto:tommaso.papini1@stud.unifi.it\n",
    "[git-tom]: https://github.com/oddlord\n",
    "[mail-gab]: mailto:gabriele.bani@stud.unifi.it\n",
    "[git-gab]: https://github.com/brnibani\n"
   ]
  },
  {
   "cell_type": "markdown",
   "metadata": {},
   "source": [
    "### Introduction\n",
    "The aim of this notebook is to provide an explanation on how to get the formula to calculate the (exact) average number of checks done by the [Quicksort][quicksort] algorithm on arrays of length $n$.\n",
    "\n",
    "In particular this notebook will be very [symbolic computation][symb-comp] oriented, which means that most of the passages needed to get to the final form of our formula will be done using a symbolic computation package for [Python][python], called [sympy][sympy].\n",
    "\n",
    "With sympy we'll be able to rewrite and manipulate our recurrence to finally obtain the goal function that computes the average number of checks, given the array length $n$.\n",
    "\n",
    "[quicksort]: https://en.wikipedia.org/wiki/Quicksort\n",
    "[symb-comp]: https://en.wikipedia.org/wiki/Symbolic_computation\n",
    "[python]: https://www.python.org/\n",
    "[sympy]: http://www.sympy.org/en/index.html"
   ]
  },
  {
   "cell_type": "markdown",
   "metadata": {},
   "source": [
    "### Some initial imports\n",
    "Before with start with the cool stuff, let's first import the basic packages we're gonna need for the rest of the notebook!"
   ]
  },
  {
   "cell_type": "code",
   "execution_count": 1,
   "metadata": {
    "collapsed": false
   },
   "outputs": [],
   "source": [
    "import numpy\n",
    "from sympy import *\n",
    "from sympy.abc import x, n, z, t, j, k\n",
    "\n",
    "init_printing()"
   ]
  },
  {
   "cell_type": "markdown",
   "metadata": {},
   "source": [
    "The call $init\\_printing()$ is to allow sympy outputs to be displayed with LaTeX style."
   ]
  },
  {
   "cell_type": "markdown",
   "metadata": {},
   "source": [
    "### Quicksort implementation with checks counting\n",
    "Here we provide the Quicksort implementation that will be used for the rest of the notebook.\n",
    "\n",
    "As you might know, the number of checks/swaps might vary greatly from one implementation to another of the same algorithm, so it's mandatory to set in stone right away which specific implementation we're gonna use.\n",
    "\n",
    "In this implementation the inputs $v$, $l$ and $r$ represents, respectively, the array to be sorted and the left and right indexes of the array.\n",
    "The pivot is always the rightmost element of the array, i.e. $v[r]$.\n",
    "\n",
    "Also, we included a checks counting, so that later on we can also run some simulation to gather some actual number to compare with the function output (and check if the results are consistent!).\n",
    "The algorithm will return the number of checks done $nc$."
   ]
  },
  {
   "cell_type": "code",
   "execution_count": 2,
   "metadata": {
    "collapsed": true
   },
   "outputs": [],
   "source": [
    "def quick(v,l,r):\n",
    "    nc = 0;\n",
    "    if (r - l) >= 0:\n",
    "        p = v[r]\n",
    "        i = l - 1\n",
    "        j = r\n",
    "        while i < j:\n",
    "            i += 1\n",
    "            nc += 1\n",
    "            while v[i] < p:\n",
    "                i += 1\n",
    "                nc += 1\n",
    "            j -= 1\n",
    "            nc += 1\n",
    "            while l <= j and p < v[j]:\n",
    "                j -= 1\n",
    "                nc += 1\n",
    "            if i < j:\n",
    "                a = v[i]\n",
    "                v[i] = v[j]\n",
    "                v[j] = a\n",
    "        a = v[i]\n",
    "        v[i] = p\n",
    "        v[r] = a\n",
    "        nc += quick(v,l,i-1)\n",
    "        nc += quick(v,i+1,r)\n",
    "    return nc"
   ]
  },
  {
   "cell_type": "markdown",
   "metadata": {},
   "source": [
    "### Closed form function\n",
    "Let's define the closed form of the function we're looking for, just to give a glimpse of what we're doing with a few examples.\n",
    "\n",
    "The function is\n",
    "$$C_n = 2(n+1)(H_{n+1}-1),$$\n",
    "where $C_n$ is the average checks with arrays of length $n$ and $H_{n}$ is the $n$-th [harmonic number][harm-num].\n",
    "\n",
    "[harm-num]: https://en.wikipedia.org/wiki/Harmonic_number"
   ]
  },
  {
   "cell_type": "code",
   "execution_count": 3,
   "metadata": {
    "collapsed": true
   },
   "outputs": [],
   "source": [
    "def checks_quicksort(n):\n",
    "    return 2*(n+1)*(harmonic(n+1).evalf()-1)"
   ]
  },
  {
   "cell_type": "markdown",
   "metadata": {},
   "source": [
    "Getting this closed form of $C_n$ is the main goal of this notebook."
   ]
  },
  {
   "cell_type": "markdown",
   "metadata": {},
   "source": [
    "### A couple of examples\n",
    "We provide here a couple of examples where we compare the result of the closed form function defined above with the actual number of checks done by our implementation of Quicksort on a random array."
   ]
  },
  {
   "cell_type": "code",
   "execution_count": 4,
   "metadata": {
    "collapsed": false
   },
   "outputs": [
    {
     "name": "stdout",
     "output_type": "stream",
     "text": [
      "Random array: [ 2 14 17  3 10  0 18 19  1 11 13 12  5  7 16  6  8  4  9 15]\n",
      "Array after Quicksort: [ 0  1  2  3  4  5  6  7  8  9 10 11 12 13 14 15 16 17 18 19]\n",
      "Quicksort count: 105.00000; closed-form: 111.10507\n"
     ]
    }
   ],
   "source": [
    "random_perm = numpy.random.permutation(20)\n",
    "print (\"Random array: %s\" % (random_perm))\n",
    "checks = quick(random_perm,0,19)\n",
    "print (\"Array after Quicksort: %s\" % (random_perm))\n",
    "print (\"Quicksort count: %.5f; closed-form: %.5f\" % (checks, checks_quicksort(20)))"
   ]
  },
  {
   "cell_type": "code",
   "execution_count": 5,
   "metadata": {
    "collapsed": false
   },
   "outputs": [
    {
     "name": "stdout",
     "output_type": "stream",
     "text": [
      "Random array: [2 0 1 3]\n",
      "Array after Quicksort: [0 1 2 3]\n",
      "Quicksort count: 13.00000; closed-form: 12.83333\n"
     ]
    }
   ],
   "source": [
    "random_perm = numpy.random.permutation(4)\n",
    "print (\"Random array: %s\" % (random_perm))\n",
    "checks = quick(random_perm,0,3)\n",
    "print (\"Array after Quicksort: %s\" % (random_perm))\n",
    "print (\"Quicksort count: %.5f; closed-form: %.5f\" % (checks, checks_quicksort(4)))"
   ]
  },
  {
   "cell_type": "markdown",
   "metadata": {},
   "source": [
    "### Main recurrence\n",
    "Let the dance commence!\n",
    "\n",
    "The first thing we need is to define a recurrence that describes the average number of checks done by our Quicksort implementations.\n",
    "\n",
    "Why a recurrence, you might ask? because the Quicksort is a recursive algorithm and recurrences are the mathematical counterpart of recursive algorithms: a recursive algorithm is described by a recurrence and a recurrence can be evaluated by running a recursive algorithm.\n",
    "\n",
    "But evaluating a recurrence can be sometimes very expensive, in terms of both space and time. So what we usually try to do is to **solve** the recurrence, which means try to rewrite and manipulate the recurrence until we obtain a closed form.\n",
    "Since the closed form is more direct and does not involve calling the same function over and over multiple times, it's often preferrable to the recurrence evaluation as it'll save precious resources.\n",
    "\n",
    "To obtain the closed form of the recurrence that describes the average number of checks in the Quicksort is the goal of this notebook.\n",
    "In particular we'll see two different approaches to get from the recurrence to the closed form: the *difference method* and the *genetaring function method*."
   ]
  },
  {
   "cell_type": "markdown",
   "metadata": {},
   "source": [
    "#### Getting the recurrence\n",
    "So let's start with defining the recurrence that describes the average number of checks done by our Quicksort implementation.\n",
    "\n",
    "How many checks does a single Quicksort call do?\n",
    "$$n+1$$\n",
    "In fact we can notice that our algorithm does a check each time the indexes $i$ and $j$ are increased/decreased. Since these indexes have to scan all the elements that are not the pivot until they cross, we have $n-1$ checks (for $n-1$ elements that are not the pivot) plus $2$ checks to let the indexes cross, for a total of $n+1$.\n",
    "\n",
    "Now we have to consider the checks done by the two recursive calls.\n",
    "If the pivot is $k$, then the checks of the two calls will be given by\n",
    "$$C_{k-1}+C_{n-k}$$\n",
    "\n",
    "But since we're analyzing the average number of checks, we have to consider every possible configuration we can find. The number of checks done by the two recursive calls depends on the value of the pivot, i.e. the rightmost element, that can have $n$ different values (from $1$ to $n$).\n",
    "\n",
    "Also, among the $n!$ possible permutations, only $(n-1)!$ have $k$ in the last position. This means that the probability of having a combination with $k$ as pivot is:\n",
    "$$\\frac{(n-1)!}{n!}=\\frac{1}{n}$$\n",
    "\n",
    "If we put everything together we finally obtain the recurrence:\n",
    "$$C_n = n+1+\\frac{1}{n}\\sum_{k=1}^{n}(C_{k-1}+C_{n-k})$$\n",
    "With initial contition $C_0 = 0$.\n",
    "\n",
    "Before we can move on to the next step, we can notice that inside the summation, each recursive call appears exactly twice and also that the actual indexes of the recursive calls range from $0$ to $n-1$. This means that:\n",
    "$$\\sum_{k=1}^{n}(C_{k-1}+C_{n-k}) = 2\\sum_{k=0}^{n-1}C_k$$\n",
    "\n",
    "That said, we can rewrite the recurrence in a much simpler way:\n",
    "$$C_n = n+1 + \\frac{2}{n}\\sum_{k=0}^{n-1}C_k$$"
   ]
  },
  {
   "cell_type": "markdown",
   "metadata": {},
   "source": [
    "#### Python version\n",
    "Below we provide a python implementation of the above recurrence, so that we can later compare it with the results of the closed form function and the actual checks from the algoritms."
   ]
  },
  {
   "cell_type": "code",
   "execution_count": 6,
   "metadata": {
    "collapsed": false
   },
   "outputs": [
    {
     "name": "stdout",
     "output_type": "stream",
     "text": [
      "Quicksort count: 111.00000; closed-form: 111.10507; recurrence: 111.10507\n",
      "Time Quicksort count: 0.00007 s; Time closed-form: 0.00021 s; Time recurrence: 0.23951 s\n"
     ]
    }
   ],
   "source": [
    "def C_py(n):\n",
    "    if n == 0:\n",
    "        return 0\n",
    "    else:\n",
    "        Cn = 0.0\n",
    "        for k in range(0, n):\n",
    "            Cn += C_py(k)\n",
    "        return n+1+(2.0/n)*Cn\n",
    "random_perm = numpy.random.permutation(20)\n",
    "import timeit\n",
    "start1 = timeit.default_timer()\n",
    "quicksort_count = quick(random_perm,0,19)\n",
    "stop1 = timeit.default_timer()\n",
    "start2 = timeit.default_timer()\n",
    "checks = checks_quicksort(20)\n",
    "stop2 = timeit.default_timer()\n",
    "start3 = timeit.default_timer()\n",
    "rec_quicksort = C_py(20)\n",
    "stop3 = timeit.default_timer()\n",
    "print (\"Quicksort count: %.5f; closed-form: %.5f; recurrence: %.5f\" % (quicksort_count, checks, rec_quicksort))\n",
    "print (\"Time Quicksort count: %.5f s; Time closed-form: %.5f s; Time recurrence: %.5f s\" % (stop1 - start1,stop2 - start2,\n",
    "                                                                                                                stop3-start3))"
   ]
  },
  {
   "cell_type": "markdown",
   "metadata": {},
   "source": [
    "#### sympy version\n",
    "Let's start using sympy, the python package for symbolic computation.\n",
    "\n",
    "We start by defining the recurrence as seen above, in sympy sintax."
   ]
  },
  {
   "cell_type": "code",
   "execution_count": 7,
   "metadata": {
    "collapsed": false
   },
   "outputs": [
    {
     "data": {
      "image/png": "[encoded data removed]",
      "text/latex": [
       "$$\\operatorname{C_{n}}{\\left (n \\right )} = n + 1 + \\frac{2}{n} \\sum_{k=0}^{n - 1} \\operatorname{C_{n}}{\\left (k \\right )}$$"
      ],
      "text/plain": [
       "                   n - 1       \n",
       "                    ___        \n",
       "                    ╲          \n",
       "                     ╲   C_n(k)\n",
       "                 2⋅  ╱         \n",
       "                    ╱          \n",
       "                    ‾‾‾        \n",
       "                   k = 0       \n",
       "C_n(n) = n + 1 + ──────────────\n",
       "                       n       "
      ]
     },
     "execution_count": 7,
     "metadata": {},
     "output_type": "execute_result"
    }
   ],
   "source": [
    "Cn = Function('C_n')\n",
    "base_rec = Eq(Cn(n), n+1+(2/n)*Sum(Cn(k), (k, 0, n-1)))\n",
    "base_rec"
   ]
  },
  {
   "cell_type": "markdown",
   "metadata": {},
   "source": [
    "#### Are we lucky?\n",
    "sympy provides a function called *rsolve*, which tries to automatically solve a recurrence and calculate it's closed form.\n",
    "\n",
    "Let's try to see if we are lucky and our recurrence is easy enough to be solved automatically by sympy."
   ]
  },
  {
   "cell_type": "code",
   "execution_count": 8,
   "metadata": {
    "collapsed": false
   },
   "outputs": [
    {
     "name": "stdout",
     "output_type": "stream",
     "text": [
      "None\n"
     ]
    }
   ],
   "source": [
    "print (rsolve(base_rec, Cn(n), {Cn(0):0}))"
   ]
  },
  {
   "cell_type": "markdown",
   "metadata": {},
   "source": [
    "Nope... :(\n",
    "\n",
    "So let's begin with the first approach, the *difference method*."
   ]
  },
  {
   "cell_type": "markdown",
   "metadata": {},
   "source": [
    "### Recurrence solving: difference method\n",
    "The first method we're gonna use to solve the recurrence is called *difference method*.\n",
    "\n",
    "The idea of the difference method is to express the recurrence in two generic successive points, let them be $n-1$ and $n$, and then express the difference of the recurrences in these two point, with the hope to obtain a simpler recurrence."
   ]
  },
  {
   "cell_type": "markdown",
   "metadata": {},
   "source": [
    "#### Auxiliary function to apply the same operation between a number and the two sides of an Eq\n",
    "Before we start, let's define an useful auxiliary function that lets us apply a binary operation $op$ to the two sides of an equation $eq$ (first argument of $op$) and a number $n$ (second argument of $op$)."
   ]
  },
  {
   "cell_type": "code",
   "execution_count": 9,
   "metadata": {
    "collapsed": false
   },
   "outputs": [],
   "source": [
    "def op_eq_n(eq, n, op):\n",
    "    return Eq(op(eq.lhs, n), op(eq.rhs, n))"
   ]
  },
  {
   "cell_type": "markdown",
   "metadata": {},
   "source": [
    "#### Multiply by $n$ both sides\n",
    "We use that auxiliary function right away, to multiply both sides of the equation by $n$."
   ]
  },
  {
   "cell_type": "code",
   "execution_count": 10,
   "metadata": {
    "collapsed": false
   },
   "outputs": [
    {
     "data": {
      "image/png": "[encoded data removed]",
      "text/latex": [
       "$$n \\operatorname{C_{n}}{\\left (n \\right )} = n \\left(n + 1\\right) + \\sum_{k=0}^{n - 1} 2 \\operatorname{C_{n}}{\\left (k \\right )}$$"
      ],
      "text/plain": [
       "                       n - 1         \n",
       "                        ___          \n",
       "                        ╲            \n",
       "                         ╲   2⋅C_n(k)\n",
       "n⋅C_n(n) = n⋅(n + 1) +   ╱           \n",
       "                        ╱            \n",
       "                        ‾‾‾          \n",
       "                       k = 0         "
      ]
     },
     "execution_count": 10,
     "metadata": {},
     "output_type": "execute_result"
    }
   ],
   "source": [
    "base_rec2 = op_eq_n(base_rec, n, lambda x,y: x*y).simplify()\n",
    "base_rec2"
   ]
  },
  {
   "cell_type": "markdown",
   "metadata": {},
   "source": [
    "#### Auxiliary function to factor a Sum and substitute\n",
    "Since in sympy there's currently no supported feature to factor constants out of Sums, we need to implement a small function that does that, as suggested [here][factor-sum].\n",
    "\n",
    "[factor-sum]: https://github.com/sympy/sympy/issues/7902"
   ]
  },
  {
   "cell_type": "code",
   "execution_count": 11,
   "metadata": {
    "collapsed": true
   },
   "outputs": [],
   "source": [
    "def factor_sum_subs(eq, old_sum):\n",
    "    con, dep = factor_terms(old_sum.function.as_independent(*old_sum.variables));\n",
    "    new_sum=con*Sum(dep, *old_sum.args[1:])\n",
    "    return eq.subs(old_sum, new_sum)"
   ]
  },
  {
   "cell_type": "markdown",
   "metadata": {},
   "source": [
    "#### Let's use it to factor that $2$ out of the Sum\n",
    "That $2$ inside the summation is quite ugly, let's take it out with $factor_sum_subs$!"
   ]
  },
  {
   "cell_type": "code",
   "execution_count": 12,
   "metadata": {
    "collapsed": false
   },
   "outputs": [
    {
     "data": {
      "image/png": "[encoded data removed]",
      "text/latex": [
       "$$n \\operatorname{C_{n}}{\\left (n \\right )} = n \\left(n + 1\\right) + 2 \\sum_{k=0}^{n - 1} \\operatorname{C_{n}}{\\left (k \\right )}$$"
      ],
      "text/plain": [
       "                         n - 1       \n",
       "                          ___        \n",
       "                          ╲          \n",
       "                           ╲   C_n(k)\n",
       "n⋅C_n(n) = n⋅(n + 1) + 2⋅  ╱         \n",
       "                          ╱          \n",
       "                          ‾‾‾        \n",
       "                         k = 0       "
      ]
     },
     "execution_count": 12,
     "metadata": {},
     "output_type": "execute_result"
    }
   ],
   "source": [
    "base_rec3 = factor_sum_subs(base_rec2, Sum(2*Cn(k), (k, 0, n-1)))\n",
    "base_rec3"
   ]
  },
  {
   "cell_type": "markdown",
   "metadata": {},
   "source": [
    "#### The above is valid for every value of $n$, so it's valid for $n-1$ as well\n",
    "Here we simply substitute $n$ with $n-1$ in the recurrence. This is legit since the recurrence we defined is valid for all $n$."
   ]
  },
  {
   "cell_type": "code",
   "execution_count": 13,
   "metadata": {
    "collapsed": false
   },
   "outputs": [
    {
     "data": {
      "image/png": "[encoded data removed]",
      "text/latex": [
       "$$\\left(n - 1\\right) \\operatorname{C_{n}}{\\left (n - 1 \\right )} = n \\left(n - 1\\right) + 2 \\sum_{k=0}^{n - 2} \\operatorname{C_{n}}{\\left (k \\right )}$$"
      ],
      "text/plain": [
       "                                   n - 2       \n",
       "                                    ___        \n",
       "                                    ╲          \n",
       "                                     ╲   C_n(k)\n",
       "(n - 1)⋅C_n(n - 1) = n⋅(n - 1) + 2⋅  ╱         \n",
       "                                    ╱          \n",
       "                                    ‾‾‾        \n",
       "                                   k = 0       "
      ]
     },
     "execution_count": 13,
     "metadata": {},
     "output_type": "execute_result"
    }
   ],
   "source": [
    "base_rec3_prev = base_rec3.subs(n, n-1)\n",
    "base_rec3_prev"
   ]
  },
  {
   "cell_type": "markdown",
   "metadata": {},
   "source": [
    "#### Auxiliary function to apply an operation to two Eqs sidewise\n",
    "Now we need an auxiliary function that is similar to $op_eq_n$ but where the operation $op$ is applied between two equations sidewise and not between an equation and a number."
   ]
  },
  {
   "cell_type": "code",
   "execution_count": 14,
   "metadata": {
    "collapsed": true
   },
   "outputs": [],
   "source": [
    "def op_eqs(eq1, eq2, op):\n",
    "    return Eq(op(eq1.lhs, eq2.lhs), op(eq1.rhs, eq2.rhs))"
   ]
  },
  {
   "cell_type": "markdown",
   "metadata": {},
   "source": [
    "#### Application of the difference method\n",
    "In this passage we apply the idea of the *difference method*: we have the recurrence expressed in $n$ and in $n-1$ and we express the difference between the two now."
   ]
  },
  {
   "cell_type": "code",
   "execution_count": 15,
   "metadata": {
    "collapsed": false
   },
   "outputs": [
    {
     "data": {
      "image/png": "[encoded data removed]",
      "text/latex": [
       "$$n \\operatorname{C_{n}}{\\left (n \\right )} - \\left(n - 1\\right) \\operatorname{C_{n}}{\\left (n - 1 \\right )} = 2 n - 2 \\sum_{k=0}^{n - 2} \\operatorname{C_{n}}{\\left (k \\right )} + 2 \\sum_{k=0}^{n - 1} \\operatorname{C_{n}}{\\left (k \\right )}$$"
      ],
      "text/plain": [
       "                                        n - 2            n - 1       \n",
       "                                         ___              ___        \n",
       "                                         ╲                ╲          \n",
       "                                          ╲   C_n(k)       ╲   C_n(k)\n",
       "n⋅C_n(n) - (n - 1)⋅C_n(n - 1) = 2⋅n - 2⋅  ╱          + 2⋅  ╱         \n",
       "                                         ╱                ╱          \n",
       "                                         ‾‾‾              ‾‾‾        \n",
       "                                        k = 0            k = 0       "
      ]
     },
     "execution_count": 15,
     "metadata": {},
     "output_type": "execute_result"
    }
   ],
   "source": [
    "diff_rec = op_eqs(base_rec3, base_rec3_prev, lambda x,y: x-y).simplify()\n",
    "diff_rec"
   ]
  },
  {
   "cell_type": "markdown",
   "metadata": {},
   "source": [
    "#### Auxiliary function to extract the last term of a summation and substitute inside an Eq\n",
    "Now that we need some advanced manipulation power, we write a function that extracts the last term out of a summation and substitute the new summation (plus the last term explicited) inside an equation."
   ]
  },
  {
   "cell_type": "code",
   "execution_count": 16,
   "metadata": {
    "collapsed": false
   },
   "outputs": [],
   "source": [
    "def extract_last_term_subs(eq, old_sum):\n",
    "    sum_args = old_sum.args\n",
    "    f = sum_args[0]\n",
    "    indexes = sum_args[1]\n",
    "    new_sum = Sum(f, (indexes[0], indexes[1], indexes[2]-1)) + f.subs(indexes[0], indexes[2])\n",
    "    return eq.subs(old_sum, new_sum)"
   ]
  },
  {
   "cell_type": "markdown",
   "metadata": {},
   "source": [
    "#### Extract term $n-1$ and simplify summations\n",
    "With the above function, we can now extract the term with index $n-1$ from the second summation. This way, the two resulting summations in the recurrence will be the opposite one another and will simplify mutually."
   ]
  },
  {
   "cell_type": "code",
   "execution_count": 17,
   "metadata": {
    "collapsed": false
   },
   "outputs": [
    {
     "data": {
      "image/png": "[encoded data removed]",
      "text/latex": [
       "$$n \\operatorname{C_{n}}{\\left (n \\right )} - \\left(n - 1\\right) \\operatorname{C_{n}}{\\left (n - 1 \\right )} = 2 n + 2 \\operatorname{C_{n}}{\\left (n - 1 \\right )}$$"
      ],
      "text/plain": [
       "n⋅C_n(n) - (n - 1)⋅C_n(n - 1) = 2⋅n + 2⋅C_n(n - 1)"
      ]
     },
     "execution_count": 17,
     "metadata": {},
     "output_type": "execute_result"
    }
   ],
   "source": [
    "diff_rec2 = extract_last_term_subs(diff_rec, Sum(Cn(k), (k, 0, n-1))).simplify().doit()\n",
    "diff_rec2"
   ]
  },
  {
   "cell_type": "markdown",
   "metadata": {},
   "source": [
    "#### Move $(n-1)C(n-1)$ to the other side and group by $C(n-1)$\n",
    "Here we move the term $(n-1)C(n-1)$ to the right side of the equation so we can factor by $C(n-1)$."
   ]
  },
  {
   "cell_type": "code",
   "execution_count": 18,
   "metadata": {
    "collapsed": false
   },
   "outputs": [
    {
     "data": {
      "image/png": "[encoded data removed]",
      "text/latex": [
       "$$n \\operatorname{C_{n}}{\\left (n \\right )} = 2 n + \\left(n + 1\\right) \\operatorname{C_{n}}{\\left (n - 1 \\right )}$$"
      ],
      "text/plain": [
       "n⋅C_n(n) = 2⋅n + (n + 1)⋅C_n(n - 1)"
      ]
     },
     "execution_count": 18,
     "metadata": {},
     "output_type": "execute_result"
    }
   ],
   "source": [
    "new_rec = op_eq_n(diff_rec2, (n-1)*Cn(n-1), lambda x,y: x+y).simplify().factor(Cn(n-1))\n",
    "new_rec"
   ]
  },
  {
   "cell_type": "markdown",
   "metadata": {},
   "source": [
    "#### Divide both sides by $n(n-1)$"
   ]
  },
  {
   "cell_type": "code",
   "execution_count": 19,
   "metadata": {
    "collapsed": false,
    "scrolled": true
   },
   "outputs": [
    {
     "data": {
      "image/png": "[encoded data removed]",
      "text/latex": [
       "$$\\frac{\\operatorname{C_{n}}{\\left (n \\right )}}{n + 1} = \\frac{2}{n + 1} + \\frac{1}{n} \\operatorname{C_{n}}{\\left (n - 1 \\right )}$$"
      ],
      "text/plain": [
       "C_n(n)     2     C_n(n - 1)\n",
       "────── = ───── + ──────────\n",
       "n + 1    n + 1       n     "
      ]
     },
     "execution_count": 19,
     "metadata": {},
     "output_type": "execute_result"
    }
   ],
   "source": [
    "div_rec  = apart(op_eq_n(new_rec, n*(n+1), lambda x,y: x/y), Cn(n-1))\n",
    "div_rec"
   ]
  },
  {
   "cell_type": "markdown",
   "metadata": {},
   "source": [
    "#### Let's unfold!\n",
    "We can notice now that the last term $\\frac{1}{n}C_n(n-1)$ is exactly the term of the left side of the equation but calculated on the previous point.\n",
    "So we can now calculate the same recurrence for $\\frac{1}{n}C_n(n-1)$ and substitute to $\\frac{1}{n}C_n(n-1)$."
   ]
  },
  {
   "cell_type": "code",
   "execution_count": 20,
   "metadata": {
    "collapsed": false
   },
   "outputs": [
    {
     "data": {
      "image/png": "[encoded data removed]",
      "text/latex": [
       "$$\\frac{\\operatorname{C_{n}}{\\left (n \\right )}}{n + 1} = \\frac{2}{n + 1} + \\frac{\\operatorname{C_{n}}{\\left (n - 2 \\right )}}{n - 1} + \\frac{2}{n}$$"
      ],
      "text/plain": [
       "C_n(n)     2     C_n(n - 2)   2\n",
       "────── = ───── + ────────── + ─\n",
       "n + 1    n + 1     n - 1      n"
      ]
     },
     "execution_count": 20,
     "metadata": {},
     "output_type": "execute_result"
    }
   ],
   "source": [
    "div_rec2 = div_rec.subs(Cn(n-1)/n, div_rec.subs(n, n-1).rhs)\n",
    "div_rec2"
   ]
  },
  {
   "cell_type": "markdown",
   "metadata": {},
   "source": [
    "We can do the same with $\\frac{C_n(n-2)}{n-1}$."
   ]
  },
  {
   "cell_type": "code",
   "execution_count": 21,
   "metadata": {
    "collapsed": false
   },
   "outputs": [
    {
     "data": {
      "image/png": "[encoded data removed]",
      "text/latex": [
       "$$\\frac{\\operatorname{C_{n}}{\\left (n \\right )}}{n + 1} = \\frac{2}{n + 1} + \\frac{2}{n - 1} + \\frac{\\operatorname{C_{n}}{\\left (n - 3 \\right )}}{n - 2} + \\frac{2}{n}$$"
      ],
      "text/plain": [
       "C_n(n)     2       2     C_n(n - 3)   2\n",
       "────── = ───── + ───── + ────────── + ─\n",
       "n + 1    n + 1   n - 1     n - 2      n"
      ]
     },
     "execution_count": 21,
     "metadata": {},
     "output_type": "execute_result"
    }
   ],
   "source": [
    "div_rec3 = div_rec2.subs(Cn(n-2)/(n-1), div_rec.subs(n, n-2).rhs)\n",
    "div_rec3"
   ]
  },
  {
   "cell_type": "markdown",
   "metadata": {},
   "source": [
    "And so on and so forth..."
   ]
  },
  {
   "cell_type": "markdown",
   "metadata": {},
   "source": [
    "#### All the way to $C_n(0)$\n",
    "We unfold the summation as shown above until we reach $C_n(0)$, i.e. when we obtain\n",
    "$$\\frac{C_n(n)}{n+1} = \\frac{2}{n+1} + \\frac{2}{n} + \\frac{2}{n-1} + \\dots + \\frac{2}{n-n+2} + \\frac{C_n(0)}{n-n+1}.$$\n",
    "Unfortunately sympy does not provide any summation unfold operator, so we are bound to manually rewrite the recurrence."
   ]
  },
  {
   "cell_type": "code",
   "execution_count": 22,
   "metadata": {
    "collapsed": false
   },
   "outputs": [
    {
     "data": {
      "image/png": "[encoded data removed]",
      "text/latex": [
       "$$\\frac{\\operatorname{C_{n}}{\\left (n \\right )}}{n + 1} = \\operatorname{C_{n}}{\\left (0 \\right )} + 2 \\sum_{k=2}^{n + 1} \\frac{1}{k}$$"
      ],
      "text/plain": [
       "                    n + 1  \n",
       "                     ____  \n",
       "                     ╲     \n",
       "                      ╲   1\n",
       "C_n(n)                 ╲  ─\n",
       "────── = C_n(0) + 2⋅   ╱  k\n",
       "n + 1                 ╱    \n",
       "                     ╱     \n",
       "                     ‾‾‾‾  \n",
       "                    k = 2  "
      ]
     },
     "execution_count": 22,
     "metadata": {},
     "output_type": "execute_result"
    }
   ],
   "source": [
    "div_rec_final = factor_sum_subs(Eq(div_rec.lhs, Sum(2/k, (k, 2, n+1))+Cn(0)/(n-n+1)), Sum(2/k, (k, 2, n+1)))\n",
    "div_rec_final"
   ]
  },
  {
   "cell_type": "markdown",
   "metadata": {},
   "source": [
    "#### But $C_n(0)=0$\n",
    "We know that $C_n(0) = 0$, as it's the initial condition we set for our recurrence."
   ]
  },
  {
   "cell_type": "code",
   "execution_count": 23,
   "metadata": {
    "collapsed": false
   },
   "outputs": [
    {
     "data": {
      "image/png": "[encoded data removed]",
      "text/latex": [
       "$$\\frac{\\operatorname{C_{n}}{\\left (n \\right )}}{n + 1} = 2 \\sum_{k=2}^{n + 1} \\frac{1}{k}$$"
      ],
      "text/plain": [
       "           n + 1  \n",
       "            ____  \n",
       "            ╲     \n",
       "             ╲   1\n",
       "C_n(n)        ╲  ─\n",
       "────── = 2⋅   ╱  k\n",
       "n + 1        ╱    \n",
       "            ╱     \n",
       "            ‾‾‾‾  \n",
       "           k = 2  "
      ]
     },
     "execution_count": 23,
     "metadata": {},
     "output_type": "execute_result"
    }
   ],
   "source": [
    "div_rec_final2 = div_rec_final.subs(Cn(0), 0)\n",
    "div_rec_final2"
   ]
  },
  {
   "cell_type": "markdown",
   "metadata": {},
   "source": [
    "#### Auxiliary function to add a missing first term in a summation and substitute inside an Eq\n",
    "Now we need another auxiliary function that adds a missing first term inside a summation, adding that same term but with opposite sign outside the summation to balance everything."
   ]
  },
  {
   "cell_type": "code",
   "execution_count": 24,
   "metadata": {
    "collapsed": true
   },
   "outputs": [],
   "source": [
    "def add_missing_first_term_subs(eq, old_sum):\n",
    "    sum_args = old_sum.args\n",
    "    f = sum_args[0]\n",
    "    indexes = sum_args[1]\n",
    "    new_sum = Sum(f, (indexes[0], indexes[1]-1, indexes[2])) - f.subs(indexes[0], indexes[1]-1)\n",
    "    return eq.subs(old_sum, new_sum)"
   ]
  },
  {
   "cell_type": "markdown",
   "metadata": {},
   "source": [
    "#### Let's add the missing first term to the summation above\n",
    "We can now add the missing first term to the previous summation. The reason we do this will soon be clear."
   ]
  },
  {
   "cell_type": "code",
   "execution_count": 25,
   "metadata": {
    "collapsed": false
   },
   "outputs": [
    {
     "data": {
      "image/png": "[encoded data removed]",
      "text/latex": [
       "$$\\frac{\\operatorname{C_{n}}{\\left (n \\right )}}{n + 1} = 2 \\left(\\sum_{k=1}^{n + 1} \\frac{1}{k} - 1\\right)$$"
      ],
      "text/plain": [
       "           ⎛n + 1      ⎞\n",
       "           ⎜ ____      ⎟\n",
       "           ⎜ ╲         ⎟\n",
       "           ⎜  ╲   1    ⎟\n",
       "C_n(n)     ⎜   ╲  ─    ⎟\n",
       "────── = 2⋅⎜   ╱  k - 1⎟\n",
       "n + 1      ⎜  ╱        ⎟\n",
       "           ⎜ ╱         ⎟\n",
       "           ⎜ ‾‾‾‾      ⎟\n",
       "           ⎝k = 1      ⎠"
      ]
     },
     "execution_count": 25,
     "metadata": {},
     "output_type": "execute_result"
    }
   ],
   "source": [
    "div_rec_final3 = add_missing_first_term_subs(div_rec_final2, Sum(1/k, (k, 2, n+1))).factor()\n",
    "div_rec_final3"
   ]
  },
  {
   "cell_type": "markdown",
   "metadata": {},
   "source": [
    "#### That summation above is the harmonic series!\n",
    "By definition of [harmonic series][harm-series], we have that\n",
    "$$\\sum_{k=1}^{n} \\frac{1}{k} = H_n,$$\n",
    "so we can rewrite the summation above as $H_{n+1}.$\n",
    "\n",
    "[harm-series]: https://en.wikipedia.org/wiki/Harmonic_series_(mathematics)"
   ]
  },
  {
   "cell_type": "code",
   "execution_count": 26,
   "metadata": {
    "collapsed": false
   },
   "outputs": [
    {
     "data": {
      "image/png": "[encoded data removed]",
      "text/latex": [
       "$$\\frac{\\operatorname{C_{n}}{\\left (n \\right )}}{n + 1} = 2 \\left(\\operatorname{harmonic}{\\left (n + 1 \\right )} - 1\\right)$$"
      ],
      "text/plain": [
       "C_n(n)                          \n",
       "────── = 2⋅(harmonic(n + 1) - 1)\n",
       "n + 1                           "
      ]
     },
     "execution_count": 26,
     "metadata": {},
     "output_type": "execute_result"
    }
   ],
   "source": [
    "div_rec_final_harm = div_rec_final3.doit().rewrite(harmonic).factor()\n",
    "div_rec_final_harm"
   ]
  },
  {
   "cell_type": "markdown",
   "metadata": {},
   "source": [
    "#### Let's finally obtain the closed form\n",
    "With this last step, we finally obtain the closed form of the function $C_n(n)$ that calculates the average number of checks done by the Quicksort on arrays of length $n$ by multiplying both sides by $(n+1)$."
   ]
  },
  {
   "cell_type": "code",
   "execution_count": 27,
   "metadata": {
    "collapsed": false
   },
   "outputs": [
    {
     "data": {
      "image/png": "[encoded data removed]",
      "text/latex": [
       "$$\\operatorname{C_{n}}{\\left (n \\right )} = 2 \\left(n + 1\\right) \\left(\\operatorname{harmonic}{\\left (n + 1 \\right )} - 1\\right)$$"
      ],
      "text/plain": [
       "C_n(n) = 2⋅(n + 1)⋅(harmonic(n + 1) - 1)"
      ]
     },
     "execution_count": 27,
     "metadata": {},
     "output_type": "execute_result"
    }
   ],
   "source": [
    "closed_form_diff = op_eq_n(div_rec_final_harm,n+1,lambda x,y: x*y).factor()\n",
    "closed_form_diff"
   ]
  },
  {
   "cell_type": "markdown",
   "metadata": {},
   "source": [
    "### Recurrence solving: generating function method\n",
    "The second method we see is the *[generating function][gen-func] method*.\n",
    "\n",
    "The idea of this method is to calculate a closed form of the function $\\mathcal{G}(C_n(n), t)$ through the application of a finite number of rules, or principles, that applies to generating function.\n",
    "\n",
    "Once we have the closed form of $\\mathcal{G}(C_n(n), t)$ we have two choices: we either stop there and use the series expansion of $\\mathcal{G}(C_n(n), t)$ to check if the coefficients coincide with $C_n(n)$, for some fixed $n$, or we can go even further and apply the operator $[t^n]$, called \"coefficient of\", to $\\mathcal{G}(C_n(n), t)$, in order to obtain the closed form for $C_n(n)$.\n",
    "\n",
    "[gen-func]: https://en.wikipedia.org/wiki/Generating_function"
   ]
  },
  {
   "cell_type": "markdown",
   "metadata": {},
   "source": [
    "#### Let's start again from our base recurrence"
   ]
  },
  {
   "cell_type": "code",
   "execution_count": 28,
   "metadata": {
    "collapsed": false
   },
   "outputs": [
    {
     "data": {
      "image/png": "[encoded data removed]",
      "text/latex": [
       "$$\\operatorname{C_{n}}{\\left (n \\right )} = n + 1 + \\frac{2}{n} \\sum_{k=0}^{n - 1} \\operatorname{C_{n}}{\\left (k \\right )}$$"
      ],
      "text/plain": [
       "                   n - 1       \n",
       "                    ___        \n",
       "                    ╲          \n",
       "                     ╲   C_n(k)\n",
       "                 2⋅  ╱         \n",
       "                    ╱          \n",
       "                    ‾‾‾        \n",
       "                   k = 0       \n",
       "C_n(n) = n + 1 + ──────────────\n",
       "                       n       "
      ]
     },
     "execution_count": 28,
     "metadata": {},
     "output_type": "execute_result"
    }
   ],
   "source": [
    "base_rec"
   ]
  },
  {
   "cell_type": "markdown",
   "metadata": {},
   "source": [
    "#### Multiply both sides by $n$, as before"
   ]
  },
  {
   "cell_type": "code",
   "execution_count": 29,
   "metadata": {
    "collapsed": false
   },
   "outputs": [
    {
     "data": {
      "image/png": "[encoded data removed]",
      "text/latex": [
       "$$n \\operatorname{C_{n}}{\\left (n \\right )} = n \\left(n + 1\\right) + 2 \\sum_{k=0}^{n - 1} \\operatorname{C_{n}}{\\left (k \\right )}$$"
      ],
      "text/plain": [
       "                         n - 1       \n",
       "                          ___        \n",
       "                          ╲          \n",
       "                           ╲   C_n(k)\n",
       "n⋅C_n(n) = n⋅(n + 1) + 2⋅  ╱         \n",
       "                          ╱          \n",
       "                          ‾‾‾        \n",
       "                         k = 0       "
      ]
     },
     "execution_count": 29,
     "metadata": {},
     "output_type": "execute_result"
    }
   ],
   "source": [
    "base_rec3"
   ]
  },
  {
   "cell_type": "markdown",
   "metadata": {},
   "source": [
    "#### Let's define the $\\mathcal{G}$ function\n",
    "We need to define the *generating function* operator $\\mathcal{G}$.\n",
    "\n",
    "$\\mathcal{G}$ is a function in two variables, a numeric succession, like our $C_n(n)$, and a placeholder symbol $t$, such that:\n",
    "$$\\mathcal{G}(C_n(n), t) = \\sum_{k=0}^{+\\infty}C_n(n)\\cdot t^k.$$"
   ]
  },
  {
   "cell_type": "code",
   "execution_count": 30,
   "metadata": {
    "collapsed": false
   },
   "outputs": [
    {
     "data": {
      "image/png": "[encoded data removed]",
      "text/latex": [
       "$$\\mathcal{G}{\\left (\\operatorname{C_{n}}{\\left (n \\right )},t \\right )}$$"
      ],
      "text/plain": [
       "\\mathcal{G}(C_n(n), t)"
      ]
     },
     "execution_count": 30,
     "metadata": {},
     "output_type": "execute_result"
    }
   ],
   "source": [
    "G = Function('\\mathcal{G}');\n",
    "G(Cn(n), t)"
   ]
  },
  {
   "cell_type": "markdown",
   "metadata": {},
   "source": [
    "#### Identity principle\n",
    "The *identity principle* states that if\n",
    "$$a_n = b_n \\;\\forall n,$$\n",
    "then\n",
    "$$\\mathcal{G}(a_n, t) = \\mathcal{G}(b_n, t).$$"
   ]
  },
  {
   "cell_type": "code",
   "execution_count": 31,
   "metadata": {
    "collapsed": false
   },
   "outputs": [],
   "source": [
    "def identity_principle(eq):\n",
    "    return Eq(G(eq.lhs, t), G(eq.rhs, t))"
   ]
  },
  {
   "cell_type": "markdown",
   "metadata": {},
   "source": [
    "#### Apply the identity principle to our recurrence\n",
    "We can easily check that the successions on each side of our recurrence are equal for each $n$ (even for $n=0$ we get $0=0$, so no adjustment is needed). This means we can apply the identity principle and move on to the generating function world."
   ]
  },
  {
   "cell_type": "code",
   "execution_count": 32,
   "metadata": {
    "collapsed": false
   },
   "outputs": [
    {
     "data": {
      "image/png": "[encoded data removed]",
      "text/latex": [
       "$$\\mathcal{G}{\\left (n \\operatorname{C_{n}}{\\left (n \\right )},t \\right )} = \\mathcal{G}{\\left (n \\left(n + 1\\right) + 2 \\sum_{k=0}^{n - 1} \\operatorname{C_{n}}{\\left (k \\right )},t \\right )}$$"
      ],
      "text/plain": [
       "                                      ⎛              n - 1          ⎞\n",
       "                                      ⎜               ___           ⎟\n",
       "                                      ⎜               ╲             ⎟\n",
       "                                      ⎜                ╲   C_n(k)   ⎟\n",
       "\\mathcal{G}(n⋅C_n(n), t) =            ⎜n⋅(n + 1) + 2⋅  ╱         , t⎟\n",
       "                                      ⎜               ╱             ⎟\n",
       "                                      ⎜               ‾‾‾           ⎟\n",
       "                           \\mathcal{G}⎝              k = 0          ⎠"
      ]
     },
     "execution_count": 32,
     "metadata": {},
     "output_type": "execute_result"
    }
   ],
   "source": [
    "g_rec = identity_principle(base_rec3)\n",
    "g_rec"
   ]
  },
  {
   "cell_type": "markdown",
   "metadata": {},
   "source": [
    "#### Let's define the linearity property of $G$\n",
    "One of the basic properties of generating functions is the *linearity*, which states that\n",
    "$$\\mathcal{G}(\\alpha a_n + \\beta b_n, t) = \\alpha\\mathcal{G}(a_n, t) + \\beta\\mathcal{G}(b_n, t).$$"
   ]
  },
  {
   "cell_type": "code",
   "execution_count": 33,
   "metadata": {
    "collapsed": false
   },
   "outputs": [],
   "source": [
    "def linearity(eq, g):\n",
    "    x = Wild('x', exclude=[n])\n",
    "    a = Wild('a')\n",
    "    y = Wild('y', exclude=[n])\n",
    "    b = Wild('b')\n",
    "    match = g.match(G(x*a+y*b, t))\n",
    "    return eq.subs(g, x*G(a, t)+y*G(b, t)).xreplace(match)"
   ]
  },
  {
   "cell_type": "markdown",
   "metadata": {},
   "source": [
    "#### And apply it to the right side\n",
    "Let's apply the linearity principle to the right side of the equation in order to break the inner sum into two generating functions (and also bring that $2$ outside of the $\\mathcal{G}$)."
   ]
  },
  {
   "cell_type": "code",
   "execution_count": 34,
   "metadata": {
    "collapsed": false
   },
   "outputs": [
    {
     "data": {
      "image/png": "[encoded data removed]",
      "text/latex": [
       "$$\\mathcal{G}{\\left (n \\operatorname{C_{n}}{\\left (n \\right )},t \\right )} = \\mathcal{G}{\\left (n^{2} + n,t \\right )} + 2 \\mathcal{G}{\\left (\\sum_{k=0}^{n - 1} \\operatorname{C_{n}}{\\left (k \\right )},t \\right )}$$"
      ],
      "text/plain": [
       "                                                                 ⎛n - 1       \n",
       "                                                                 ⎜ ___        \n",
       "                                                                 ⎜ ╲          \n",
       "                                      ⎛ 2       ⎞                ⎜  ╲   C_n(k)\n",
       "\\mathcal{G}(n⋅C_n(n), t) = \\mathcal{G}⎝n  + n, t⎠ + 2⋅           ⎜  ╱         \n",
       "                                                                 ⎜ ╱          \n",
       "                                                                 ⎜ ‾‾‾        \n",
       "                                                      \\mathcal{G}⎝k = 0       \n",
       "\n",
       "   ⎞\n",
       "   ⎟\n",
       "   ⎟\n",
       "   ⎟\n",
       ", t⎟\n",
       "   ⎟\n",
       "   ⎟\n",
       "   ⎠"
      ]
     },
     "execution_count": 34,
     "metadata": {},
     "output_type": "execute_result"
    }
   ],
   "source": [
    "g_rec2 = linearity(g_rec, g_rec.rhs)\n",
    "g_rec2"
   ]
  },
  {
   "cell_type": "markdown",
   "metadata": {
    "collapsed": true
   },
   "source": [
    "#### Apply the linearity again to $\\mathcal{G}(n^2+n)$\n",
    "Here we apply the linearity again on $\\mathcal{G}(n^2+n)$ to break it into two smaller generating functions."
   ]
  },
  {
   "cell_type": "code",
   "execution_count": 35,
   "metadata": {
    "collapsed": false
   },
   "outputs": [
    {
     "data": {
      "image/png": "[encoded data removed]",
      "text/latex": [
       "$$\\mathcal{G}{\\left (n \\operatorname{C_{n}}{\\left (n \\right )},t \\right )} = \\mathcal{G}{\\left (n,t \\right )} + \\mathcal{G}{\\left (n^{2},t \\right )} + 2 \\mathcal{G}{\\left (\\sum_{k=0}^{n - 1} \\operatorname{C_{n}}{\\left (k \\right )},t \\right )}$$"
      ],
      "text/plain": [
       "                                                                              \n",
       "                                                                              \n",
       "                                                                              \n",
       "                                                          ⎛ 2   ⎞             \n",
       "\\mathcal{G}(n⋅C_n(n), t) = \\mathcal{G}(n, t) + \\mathcal{G}⎝n , t⎠ + 2⋅        \n",
       "                                                                              \n",
       "                                                                              \n",
       "                                                                      \\mathcal\n",
       "\n",
       "   ⎛n - 1          ⎞\n",
       "   ⎜ ___           ⎟\n",
       "   ⎜ ╲             ⎟\n",
       "   ⎜  ╲   C_n(k)   ⎟\n",
       "   ⎜  ╱         , t⎟\n",
       "   ⎜ ╱             ⎟\n",
       "   ⎜ ‾‾‾           ⎟\n",
       "{G}⎝k = 0          ⎠"
      ]
     },
     "execution_count": 35,
     "metadata": {},
     "output_type": "execute_result"
    }
   ],
   "source": [
    "g_rec3 = linearity(g_rec2, G(n**2 + n, t))\n",
    "g_rec3"
   ]
  },
  {
   "cell_type": "markdown",
   "metadata": {},
   "source": [
    "#### Derivation property\n",
    "The *derivation property* states that\n",
    "$$\\mathcal{G}(n\\cdot a_n, t) = t\\cdot \\mathcal{G}'(a_n, t),$$\n",
    "with $\\mathcal{G}'(a_n, t)$ derivate of $\\mathcal{G}(a_n, t)$ for $t$."
   ]
  },
  {
   "cell_type": "code",
   "execution_count": 36,
   "metadata": {
    "collapsed": false
   },
   "outputs": [],
   "source": [
    "def derivation(eq, g):\n",
    "    a = Wild('a')\n",
    "    match = g.match(G(n*a, t))\n",
    "    return eq.subs(g, t*G(a, t).diff(t)).xreplace(match)"
   ]
  },
  {
   "cell_type": "markdown",
   "metadata": {},
   "source": [
    "#### Let's use it on the left side\n",
    "We notice that the left side of the equation matches with the derivation property premises, so we apply it."
   ]
  },
  {
   "cell_type": "code",
   "execution_count": 37,
   "metadata": {
    "collapsed": false
   },
   "outputs": [
    {
     "data": {
      "image/png": "[encoded data removed]",
      "text/latex": [
       "$$t \\frac{\\partial}{\\partial t} \\mathcal{G}{\\left (\\operatorname{C_{n}}{\\left (n \\right )},t \\right )} = \\mathcal{G}{\\left (n,t \\right )} + \\mathcal{G}{\\left (n^{2},t \\right )} + 2 \\mathcal{G}{\\left (\\sum_{k=0}^{n - 1} \\operatorname{C_{n}}{\\left (k \\right )},t \\right )}$$"
      ],
      "text/plain": [
       "                                                                              \n",
       "                                                                              \n",
       "                                                                              \n",
       "  ∂                                                           ⎛ 2   ⎞         \n",
       "t⋅──(\\mathcal{G}(C_n(n), t)) = \\mathcal{G}(n, t) + \\mathcal{G}⎝n , t⎠ + 2⋅    \n",
       "  ∂t                                                                          \n",
       "                                                                              \n",
       "                                                                          \\mat\n",
       "\n",
       "       ⎛n - 1          ⎞\n",
       "       ⎜ ___           ⎟\n",
       "       ⎜ ╲             ⎟\n",
       "       ⎜  ╲   C_n(k)   ⎟\n",
       "       ⎜  ╱         , t⎟\n",
       "       ⎜ ╱             ⎟\n",
       "       ⎜ ‾‾‾           ⎟\n",
       "hcal{G}⎝k = 0          ⎠"
      ]
     },
     "execution_count": 37,
     "metadata": {},
     "output_type": "execute_result"
    }
   ],
   "source": [
    "g_rec4 = derivation(g_rec3, g_rec3.lhs)\n",
    "g_rec4"
   ]
  },
  {
   "cell_type": "markdown",
   "metadata": {},
   "source": [
    "#### New notation for $\\mathcal{G}(C_n(n), t)$\n",
    "We introduce now a new notation for $\\mathcal{G}(C_n(n), t)$ to achieve a better readability."
   ]
  },
  {
   "cell_type": "code",
   "execution_count": 38,
   "metadata": {
    "collapsed": false
   },
   "outputs": [
    {
     "data": {
      "image/png": "[encoded data removed]",
      "text/latex": [
       "$$\\operatorname{C_{t}}{\\left (t \\right )}$$"
      ],
      "text/plain": [
       "C_t(t)"
      ]
     },
     "execution_count": 38,
     "metadata": {},
     "output_type": "execute_result"
    }
   ],
   "source": [
    "Ct = Function('C_t')\n",
    "Ct(t)"
   ]
  },
  {
   "cell_type": "markdown",
   "metadata": {},
   "source": [
    "#### Substitution function for $G(C_n(n)) = C_t(t)$\n",
    "We also provide a handy function to substitute the new notation when possible."
   ]
  },
  {
   "cell_type": "code",
   "execution_count": 39,
   "metadata": {
    "collapsed": true
   },
   "outputs": [],
   "source": [
    "def ct_subs(eq):\n",
    "    return eq.subs(G(Cn(n), t), Ct(t))"
   ]
  },
  {
   "cell_type": "markdown",
   "metadata": {},
   "source": [
    "#### Let's substitute $G(C_n(n))$ for a better readability\n",
    "We substitute here the new notation just introduced."
   ]
  },
  {
   "cell_type": "code",
   "execution_count": 40,
   "metadata": {
    "collapsed": false
   },
   "outputs": [
    {
     "data": {
      "image/png": "[encoded data removed]",
      "text/latex": [
       "$$t \\frac{d}{d t} \\operatorname{C_{t}}{\\left (t \\right )} = \\mathcal{G}{\\left (n,t \\right )} + \\mathcal{G}{\\left (n^{2},t \\right )} + 2 \\mathcal{G}{\\left (\\sum_{k=0}^{n - 1} \\operatorname{C_{n}}{\\left (k \\right )},t \\right )}$$"
      ],
      "text/plain": [
       "                                                                     ⎛n - 1   \n",
       "                                                                     ⎜ ___    \n",
       "                                                                     ⎜ ╲      \n",
       "  d                                           ⎛ 2   ⎞                ⎜  ╲   C_\n",
       "t⋅──(C_t(t)) = \\mathcal{G}(n, t) + \\mathcal{G}⎝n , t⎠ + 2⋅           ⎜  ╱     \n",
       "  dt                                                                 ⎜ ╱      \n",
       "                                                                     ⎜ ‾‾‾    \n",
       "                                                          \\mathcal{G}⎝k = 0   \n",
       "\n",
       "       ⎞\n",
       "       ⎟\n",
       "       ⎟\n",
       "n(k)   ⎟\n",
       "    , t⎟\n",
       "       ⎟\n",
       "       ⎟\n",
       "       ⎠"
      ]
     },
     "execution_count": 40,
     "metadata": {},
     "output_type": "execute_result"
    }
   ],
   "source": [
    "g_rec5 = ct_subs(g_rec4)\n",
    "g_rec5"
   ]
  },
  {
   "cell_type": "markdown",
   "metadata": {},
   "source": [
    "#### Couple of function to substitute known generating functions\n",
    "Without going into details and demonstration, we provide here the substitution functions for two known generating functions:\n",
    "$$\\mathcal{G}(n, t) = \\frac{t}{(1-t)²}$$\n",
    "$$\\mathcal{G}(n², t) = \\frac{t(1+t)}{(1-t)³}$$"
   ]
  },
  {
   "cell_type": "code",
   "execution_count": 41,
   "metadata": {
    "collapsed": true
   },
   "outputs": [],
   "source": [
    "def known_n(eq):\n",
    "    return eq.subs(G(n, t), t/((1-t)**2))\n",
    "\n",
    "def known_n_squared(eq):\n",
    "    return eq.subs(G(n**2, t), (t*(1+t))/((1-t)**3))"
   ]
  },
  {
   "cell_type": "markdown",
   "metadata": {},
   "source": [
    "#### Let's use them both!\n",
    "We substitute here the known results for these two generating functions."
   ]
  },
  {
   "cell_type": "code",
   "execution_count": 42,
   "metadata": {
    "collapsed": false
   },
   "outputs": [
    {
     "data": {
      "image/png": "[encoded data removed]",
      "text/latex": [
       "$$t \\frac{d}{d t} \\operatorname{C_{t}}{\\left (t \\right )} = \\frac{t}{\\left(- t + 1\\right)^{2}} + \\frac{t \\left(t + 1\\right)}{\\left(- t + 1\\right)^{3}} + 2 \\mathcal{G}{\\left (\\sum_{k=0}^{n - 1} \\operatorname{C_{n}}{\\left (k \\right )},t \\right )}$$"
      ],
      "text/plain": [
       "                                                    ⎛n - 1          ⎞\n",
       "                                                    ⎜ ___           ⎟\n",
       "                                                    ⎜ ╲             ⎟\n",
       "  d                t       t⋅(t + 1)                ⎜  ╲   C_n(k)   ⎟\n",
       "t⋅──(C_t(t)) = ───────── + ───────── + 2⋅           ⎜  ╱         , t⎟\n",
       "  dt                   2           3                ⎜ ╱             ⎟\n",
       "               (-t + 1)    (-t + 1)                 ⎜ ‾‾‾           ⎟\n",
       "                                         \\mathcal{G}⎝k = 0          ⎠"
      ]
     },
     "execution_count": 42,
     "metadata": {},
     "output_type": "execute_result"
    }
   ],
   "source": [
    "g_rec6 = known_n(known_n_squared(g_rec5))\n",
    "g_rec6"
   ]
  },
  {
   "cell_type": "markdown",
   "metadata": {},
   "source": [
    "#### Backward shift\n",
    "The *backward shift property* states that\n",
    "$$\\mathcal{G}(a_{n-s}, t) = t^s\\cdot\\mathcal{G}(a_n, t),$$\n",
    "with $s$ negative shift."
   ]
  },
  {
   "cell_type": "code",
   "execution_count": 43,
   "metadata": {
    "collapsed": true
   },
   "outputs": [],
   "source": [
    "def backward_shift(eq, g, s):\n",
    "    a = Wild('a')\n",
    "    match = g.match(G(a, t))\n",
    "    return eq.subs(g, (t**s)*G(a, t)).xreplace(match).subs(n, n+s)"
   ]
  },
  {
   "cell_type": "markdown",
   "metadata": {},
   "source": [
    "#### Apply the backward shift property to the last term of the right side\n",
    "Since we want the summation on the right side to go up to $n$ (and not $n-1$), we apply to it the backward shift property with $s=1$."
   ]
  },
  {
   "cell_type": "code",
   "execution_count": 44,
   "metadata": {
    "collapsed": false
   },
   "outputs": [
    {
     "data": {
      "image/png": "[encoded data removed]",
      "text/latex": [
       "$$t \\frac{d}{d t} \\operatorname{C_{t}}{\\left (t \\right )} = 2 t \\mathcal{G}{\\left (\\sum_{k=0}^{n} \\operatorname{C_{n}}{\\left (k \\right )},t \\right )} + \\frac{t}{\\left(- t + 1\\right)^{2}} + \\frac{t \\left(t + 1\\right)}{\\left(- t + 1\\right)^{3}}$$"
      ],
      "text/plain": [
       "                              ⎛  n            ⎞                        \n",
       "                              ⎜ ___           ⎟                        \n",
       "                              ⎜ ╲             ⎟                        \n",
       "  d                           ⎜  ╲   C_n(k)   ⎟       t       t⋅(t + 1)\n",
       "t⋅──(C_t(t)) = 2⋅t⋅           ⎜  ╱         , t⎟ + ───────── + ─────────\n",
       "  dt                          ⎜ ╱             ⎟           2           3\n",
       "                              ⎜ ‾‾‾           ⎟   (-t + 1)    (-t + 1) \n",
       "                   \\mathcal{G}⎝k = 0          ⎠                        "
      ]
     },
     "execution_count": 44,
     "metadata": {},
     "output_type": "execute_result"
    }
   ],
   "source": [
    "g_rec7 = backward_shift(g_rec6, G(Sum(Cn(k), (k, 0, n-1)), t), 1)\n",
    "g_rec7"
   ]
  },
  {
   "cell_type": "markdown",
   "metadata": {},
   "source": [
    "#### Euler method implementation (particular case of convolution)\n",
    "The *Euler property* states that\n",
    "$$\\mathcal{G}(\\sum_{k=0}^n a_n, t) = \\frac{1}{1-t}\\mathcal{G}(a_n).$$\n",
    "The Euler property is a particular case of the more general *[convolution property][conv-prop]* with $b_n = 1 \\;\\forall n$.\n",
    "\n",
    "[conv-prop]: https://en.wikipedia.org/wiki/Generating_function#Convolution"
   ]
  },
  {
   "cell_type": "code",
   "execution_count": 45,
   "metadata": {
    "collapsed": false
   },
   "outputs": [],
   "source": [
    "def euler(eq, g):\n",
    "    a = Wild('a')\n",
    "    i = Wild('i')\n",
    "    f = Wild('f')\n",
    "    l = Wild('l')\n",
    "    match = g.match(G(Sum(a, (i, f, l)), t))\n",
    "    return eq.subs(g, (1/(1-t))*G(a, t)).xreplace(match).subs(match[i], n)"
   ]
  },
  {
   "cell_type": "markdown",
   "metadata": {},
   "source": [
    "#### Let's apply Euler on the last term of the right side\n",
    "We can now eliminate the summation on the right side by applying Euler."
   ]
  },
  {
   "cell_type": "code",
   "execution_count": 46,
   "metadata": {
    "collapsed": false
   },
   "outputs": [
    {
     "data": {
      "image/png": "[encoded data removed]",
      "text/latex": [
       "$$t \\frac{d}{d t} \\operatorname{C_{t}}{\\left (t \\right )} = \\frac{2 t \\operatorname{C_{t}}{\\left (t \\right )}}{- t + 1} + \\frac{t}{\\left(- t + 1\\right)^{2}} + \\frac{t \\left(t + 1\\right)}{\\left(- t + 1\\right)^{3}}$$"
      ],
      "text/plain": [
       "  d            2⋅t⋅C_t(t)       t       t⋅(t + 1)\n",
       "t⋅──(C_t(t)) = ────────── + ───────── + ─────────\n",
       "  dt             -t + 1             2           3\n",
       "                            (-t + 1)    (-t + 1) "
      ]
     },
     "execution_count": 46,
     "metadata": {},
     "output_type": "execute_result"
    }
   ],
   "source": [
    "g_rec8 = ct_subs(euler(g_rec7, G(Sum(Cn(k), (k, 0, n)), t)))\n",
    "g_rec8"
   ]
  },
  {
   "cell_type": "markdown",
   "metadata": {},
   "source": [
    "#### Simplify $t$ on both sides"
   ]
  },
  {
   "cell_type": "code",
   "execution_count": 47,
   "metadata": {
    "collapsed": false
   },
   "outputs": [
    {
     "data": {
      "image/png": "[encoded data removed]",
      "text/latex": [
       "$$\\frac{d}{d t} \\operatorname{C_{t}}{\\left (t \\right )} = - \\frac{2 \\operatorname{C_{t}}{\\left (t \\right )}}{t - 1} - \\frac{2}{\\left(t - 1\\right)^{3}}$$"
      ],
      "text/plain": [
       "d              2⋅C_t(t)      2    \n",
       "──(C_t(t)) = - ──────── - ────────\n",
       "dt              t - 1            3\n",
       "                          (t - 1) "
      ]
     },
     "execution_count": 47,
     "metadata": {},
     "output_type": "execute_result"
    }
   ],
   "source": [
    "g_rec9 = op_eq_n(g_rec8, t, lambda x,y: x/y).simplify()\n",
    "g_rec9"
   ]
  },
  {
   "cell_type": "markdown",
   "metadata": {},
   "source": [
    "#### Are we lucky?\n",
    "sympy provides the function $dsolve$ to solve differential equations.\n",
    "\n",
    "Let's see if we are lucky enough to have our differential equation be solved automatically by sympy."
   ]
  },
  {
   "cell_type": "code",
   "execution_count": 70,
   "metadata": {
    "collapsed": false
   },
   "outputs": [
    {
     "data": {
      "image/png": "[encoded data removed]",
      "text/latex": [
       "$$\\operatorname{C_{t}}{\\left (t \\right )} = \\frac{1}{\\left(t - 1\\right)^{2}} \\left(C_{1} - 2 \\log{\\left (t - 1 \\right )}\\right)$$"
      ],
      "text/plain": [
       "         C₁ - 2⋅log(t - 1)\n",
       "C_t(t) = ─────────────────\n",
       "                     2    \n",
       "              (t - 1)     "
      ]
     },
     "execution_count": 70,
     "metadata": {},
     "output_type": "execute_result"
    }
   ],
   "source": [
    "g_solved = dsolve(g_rec9).factor()\n",
    "g_solved"
   ]
  },
  {
   "cell_type": "markdown",
   "metadata": {},
   "source": [
    "Yeah! :D\n",
    "\n",
    "$dsolve$ actually worked! Now we only need a few rewriting steps (and figure out what value should be assigned to the integration constant $C_1$) and we're done!"
   ]
  },
  {
   "cell_type": "markdown",
   "metadata": {},
   "source": [
    "#### Auxiliary function to bring a coefficient inside a $log$\n",
    "Before we can move on to the final step, we need to rewrite a bit that $log$ and in particular we want to reverse the sign of the $log$ argument, $t-1$, by applying some basic $log$ properties.\n",
    "\n",
    "Let's first define a function to bring a coefficient inside a $log$ as power of its argument."
   ]
  },
  {
   "cell_type": "code",
   "execution_count": 49,
   "metadata": {
    "collapsed": true
   },
   "outputs": [],
   "source": [
    "def power_in_log_subs(eq, log_term):\n",
    "    a = Wild('a')\n",
    "    b = Wild('b')\n",
    "    match = log_term.match(a*log(b))\n",
    "    return eq.subs(log_term, log(b**a)).xreplace(match)"
   ]
  },
  {
   "cell_type": "markdown",
   "metadata": {},
   "source": [
    "#### Let's bring that $-2$ inside that $log$\n",
    "We use here that function to bring the $-2$ multiplying the $log$ inside as power of its argument $t-1$."
   ]
  },
  {
   "cell_type": "code",
   "execution_count": 71,
   "metadata": {
    "collapsed": false
   },
   "outputs": [
    {
     "data": {
      "image/png": "[encoded data removed]",
      "text/latex": [
       "$$\\operatorname{C_{t}}{\\left (t \\right )} = \\frac{1}{\\left(t - 1\\right)^{2}} \\left(C_{1} + \\log{\\left (\\frac{1}{\\left(t - 1\\right)^{2}} \\right )}\\right)$$"
      ],
      "text/plain": [
       "                 ⎛   1    ⎞\n",
       "         C₁ + log⎜────────⎟\n",
       "                 ⎜       2⎟\n",
       "                 ⎝(t - 1) ⎠\n",
       "C_t(t) = ──────────────────\n",
       "                     2     \n",
       "              (t - 1)      "
      ]
     },
     "execution_count": 71,
     "metadata": {},
     "output_type": "execute_result"
    }
   ],
   "source": [
    "g_solved2 = power_in_log_subs(g_solved, -2*log(t-1))\n",
    "g_solved2"
   ]
  },
  {
   "cell_type": "markdown",
   "metadata": {},
   "source": [
    "#### Auxiliary function to reverse an even power\n",
    "Now we write a function that reverse the sign of an even power, using the property that $a^{2x}=(-a)^{2x}$."
   ]
  },
  {
   "cell_type": "code",
   "execution_count": 51,
   "metadata": {
    "collapsed": true
   },
   "outputs": [],
   "source": [
    "def reverse_even_power_subs(eq, power):\n",
    "    a = Wild('a')\n",
    "    b = Wild('b')\n",
    "    match = power.match(a**(2*b))\n",
    "    return eq.subs(power, (-a)**(2*b)).xreplace(match)"
   ]
  },
  {
   "cell_type": "markdown",
   "metadata": {},
   "source": [
    "#### Let's reverse the sign of $(t-1)^2$\n",
    "We can now use this function to reverse the sign of that $t-1$ at the denominator inside the $log$."
   ]
  },
  {
   "cell_type": "code",
   "execution_count": 72,
   "metadata": {
    "collapsed": false
   },
   "outputs": [
    {
     "data": {
      "image/png": "[encoded data removed]",
      "text/latex": [
       "$$\\operatorname{C_{t}}{\\left (t \\right )} = \\frac{1}{\\left(- t + 1\\right)^{2}} \\left(C_{1} + \\log{\\left (\\frac{1}{\\left(- t + 1\\right)^{2}} \\right )}\\right)$$"
      ],
      "text/plain": [
       "                 ⎛    1    ⎞\n",
       "         C₁ + log⎜─────────⎟\n",
       "                 ⎜        2⎟\n",
       "                 ⎝(-t + 1) ⎠\n",
       "C_t(t) = ───────────────────\n",
       "                      2     \n",
       "              (-t + 1)      "
      ]
     },
     "execution_count": 72,
     "metadata": {},
     "output_type": "execute_result"
    }
   ],
   "source": [
    "g_solved3 = reverse_even_power_subs(g_solved2, (t-1)**2)\n",
    "g_solved3"
   ]
  },
  {
   "cell_type": "markdown",
   "metadata": {},
   "source": [
    "#### Auxiliary function to bring a power outside a $log$\n",
    "Here we define a specular function, that brings a power outside a $log$ as coefficient. For convenience, we pass the power we want to bring out as an argument.\n",
    "```java\n",
    "// ToFix: keep the original sign of a without manual change\n",
    "```"
   ]
  },
  {
   "cell_type": "code",
   "execution_count": 53,
   "metadata": {
    "collapsed": true
   },
   "outputs": [],
   "source": [
    "def power_out_log_subs(eq, log_term, p):\n",
    "    a = Wild('a')\n",
    "    b = Wild('b')\n",
    "    match = log_term.match(log(a**p))\n",
    "    match[a] = 1/(1-t) # ToFix: this!\n",
    "    return eq.subs(log_term, p*log(a)).xreplace(match)"
   ]
  },
  {
   "cell_type": "markdown",
   "metadata": {},
   "source": [
    "#### Let's bring the $2$ outside the $log$ again\n",
    "We take that $2$ outside again (keeping the $-1$ inside as power)."
   ]
  },
  {
   "cell_type": "code",
   "execution_count": 73,
   "metadata": {
    "collapsed": false
   },
   "outputs": [
    {
     "data": {
      "image/png": "[encoded data removed]",
      "text/latex": [
       "$$\\operatorname{C_{t}}{\\left (t \\right )} = \\frac{1}{\\left(- t + 1\\right)^{2}} \\left(C_{1} + 2 \\log{\\left (\\frac{1}{- t + 1} \\right )}\\right)$$"
      ],
      "text/plain": [
       "                   ⎛  1   ⎞\n",
       "         C₁ + 2⋅log⎜──────⎟\n",
       "                   ⎝-t + 1⎠\n",
       "C_t(t) = ──────────────────\n",
       "                     2     \n",
       "             (-t + 1)      "
      ]
     },
     "execution_count": 73,
     "metadata": {},
     "output_type": "execute_result"
    }
   ],
   "source": [
    "g_solved4 = power_out_log_subs(g_solved3, log(1/((1-t)**2)),2)\n",
    "g_solved4"
   ]
  },
  {
   "cell_type": "markdown",
   "metadata": {},
   "source": [
    "#### Let's find $C_1$\n",
    "In order to find the correct value for the constant $C_1$ we solve the equation for $C_1$ in $0$ (since $C_n(0)$ is the only value known of our succession and $C_n(0)=C_t(0)=0$).\n",
    "\n",
    "To do so, we express the equation in $t=0$ and the use the function $solve$ offered by sympy."
   ]
  },
  {
   "cell_type": "code",
   "execution_count": 74,
   "metadata": {
    "collapsed": false
   },
   "outputs": [
    {
     "data": {
      "image/png": "[encoded data removed]",
      "text/latex": [
       "$$\\left \\{ C_{1} : 0\\right \\}$$"
      ],
      "text/plain": [
       "{C₁: 0}"
      ]
     },
     "execution_count": 74,
     "metadata": {},
     "output_type": "execute_result"
    }
   ],
   "source": [
    "C1_value = solve(g_solved4.subs(t, 0).subs(Ct(0), 0), dict=True)[0]\n",
    "C1_value"
   ]
  },
  {
   "cell_type": "markdown",
   "metadata": {},
   "source": [
    "#### And let's substitute the value found into our equation\n",
    "Finally, if we substitute the value found to $C_1$ in our equation we obtain the closed form of $C_t(t)$."
   ]
  },
  {
   "cell_type": "code",
   "execution_count": 87,
   "metadata": {
    "collapsed": false
   },
   "outputs": [
    {
     "data": {
      "image/png": "[encoded data removed]",
      "text/latex": [
       "$$\\operatorname{C_{t}}{\\left (t \\right )} = \\frac{2 \\log{\\left (\\frac{1}{- t + 1} \\right )}}{\\left(- t + 1\\right)^{2}}$$"
      ],
      "text/plain": [
       "              ⎛  1   ⎞\n",
       "         2⋅log⎜──────⎟\n",
       "              ⎝-t + 1⎠\n",
       "C_t(t) = ─────────────\n",
       "                   2  \n",
       "           (-t + 1)   "
      ]
     },
     "execution_count": 87,
     "metadata": {},
     "output_type": "execute_result"
    }
   ],
   "source": [
    "g_solved5 = g_solved4.xreplace(C1_value)\n",
    "g_solved5"
   ]
  },
  {
   "cell_type": "markdown",
   "metadata": {},
   "source": [
    "#### Known harmonic generating function\n",
    "We can now observe that $\\frac{log(\\frac{1}{1-t})}{1-t}$ is the generating function of the Harmonic series. I.e.:\n",
    "$$\\frac{log(\\frac{1}{1-t})}{1-t} = \\mathcal{G}(H_n, t).$$\n",
    "So let's define a function that substitute the generating function of the Harmonic series to that fraction."
   ]
  },
  {
   "cell_type": "code",
   "execution_count": 78,
   "metadata": {
    "collapsed": true
   },
   "outputs": [],
   "source": [
    "def known_g_harmonic(eq):\n",
    "    return eq.subs((log(1/(-t+1)))/(-t+1), G(harmonic(n), t))"
   ]
  },
  {
   "cell_type": "markdown",
   "metadata": {},
   "source": [
    "#### Substitute with the generating function of the Harmonic series\n",
    "We finally substitute the known generating function of the Harmonic series for a better readability."
   ]
  },
  {
   "cell_type": "code",
   "execution_count": 88,
   "metadata": {
    "collapsed": false
   },
   "outputs": [
    {
     "data": {
      "image/png": "[encoded data removed]",
      "text/latex": [
       "$$\\operatorname{C_{t}}{\\left (t \\right )} = \\frac{2 \\mathcal{G}{\\left (\\operatorname{harmonic}{\\left (n \\right )},t \\right )}}{- t + 1}$$"
      ],
      "text/plain": [
       "         2⋅\\mathcal{G}(harmonic(n), t)\n",
       "C_t(t) = ─────────────────────────────\n",
       "                     -t + 1           "
      ]
     },
     "execution_count": 88,
     "metadata": {},
     "output_type": "execute_result"
    }
   ],
   "source": [
    "g_solved6 = known_g_harmonic(g_solved5)\n",
    "g_solved6"
   ]
  },
  {
   "cell_type": "markdown",
   "metadata": {},
   "source": [
    "#### Let's check with some coefficients"
   ]
  },
  {
   "cell_type": "code",
   "execution_count": 91,
   "metadata": {
    "collapsed": false
   },
   "outputs": [
    {
     "data": {
      "image/png": "[encoded data removed]",
      "text/latex": [
       "$$2.0 t + 5.0 t^{2} + 8.66666666666667 t^{3} + 12.8333333333333 t^{4} + 17.4 t^{5} + 22.3 t^{6} + 27.4857142857143 t^{7} + 32.9214285714286 t^{8} + 38.5793650793651 t^{9} + 44.4373015873016 t^{10} + 50.4770562770563 t^{11} + 56.6834776334776 t^{12} + 63.0437451437451 t^{13} + 69.5468697968698 t^{14} + 76.1833277833278 t^{15} + 82.9447857697858 t^{16} + 89.8238908150673 t^{17} + 96.8141069714599 t^{18} + 103.909586285747 t^{19} + 111.105065600035 t^{20} + \\mathcal{O}\\left(t^{21}\\right)$$"
      ],
      "text/plain": [
       "             2                     3                     4         5         6\n",
       "2.0⋅t + 5.0⋅t  + 8.66666666666667⋅t  + 12.8333333333333⋅t  + 17.4⋅t  + 22.3⋅t \n",
       "\n",
       "                     7                     8                     9            \n",
       " + 27.4857142857143⋅t  + 32.9214285714286⋅t  + 38.5793650793651⋅t  + 44.437301\n",
       "\n",
       "         10                     11                     12                     \n",
       "5873016⋅t   + 50.4770562770563⋅t   + 56.6834776334776⋅t   + 63.0437451437451⋅t\n",
       "\n",
       "13                     14                     15                     16       \n",
       "   + 69.5468697968698⋅t   + 76.1833277833278⋅t   + 82.9447857697858⋅t   + 89.8\n",
       "\n",
       "              17                     18                     19                \n",
       "238908150673⋅t   + 96.8141069714599⋅t   + 103.909586285747⋅t   + 111.105065600\n",
       "\n",
       "     20    ⎛ 21⎞\n",
       "035⋅t   + O⎝t  ⎠"
      ]
     },
     "execution_count": 91,
     "metadata": {},
     "output_type": "execute_result"
    }
   ],
   "source": [
    "g_solved5.rhs.series(n=21).evalf()"
   ]
  },
  {
   "cell_type": "markdown",
   "metadata": {},
   "source": [
    "It works! OMG! :D :D :D"
   ]
  },
  {
   "cell_type": "markdown",
   "metadata": {},
   "source": [
    "### Test & comparison"
   ]
  },
  {
   "cell_type": "code",
   "execution_count": 61,
   "metadata": {
    "collapsed": false
   },
   "outputs": [
    {
     "name": "stdout",
     "output_type": "stream",
     "text": [
      "Number of checks obtained by: \n",
      "-  counting inside the Quicksort algorithm (on a random permutation)\n",
      "-  evaluating the C_n recurrence\n",
      "-  evaluating the C_n closed form function\n",
      "-  calculating the series G(C_n)\n",
      "\n",
      "n = 01 | Algorithm count: 002 | Recurrence: 002.000 | Closed form: 002.000 | G(C_n): 002.000\n",
      "n = 02 | Algorithm count: 005 | Recurrence: 005.000 | Closed form: 005.000 | G(C_n): 005.000\n",
      "n = 03 | Algorithm count: 008 | Recurrence: 008.667 | Closed form: 008.667 | G(C_n): 008.667\n",
      "n = 04 | Algorithm count: 012 | Recurrence: 012.833 | Closed form: 012.833 | G(C_n): 012.833\n",
      "n = 05 | Algorithm count: 017 | Recurrence: 017.400 | Closed form: 017.400 | G(C_n): 017.400\n",
      "n = 06 | Algorithm count: 023 | Recurrence: 022.300 | Closed form: 022.300 | G(C_n): 022.300\n",
      "n = 07 | Algorithm count: 030 | Recurrence: 027.486 | Closed form: 027.486 | G(C_n): 027.486\n",
      "n = 08 | Algorithm count: 034 | Recurrence: 032.921 | Closed form: 032.921 | G(C_n): 032.921\n",
      "n = 09 | Algorithm count: 038 | Recurrence: 038.579 | Closed form: 038.579 | G(C_n): 038.579\n",
      "n = 10 | Algorithm count: 052 | Recurrence: 044.437 | Closed form: 044.437 | G(C_n): 044.437\n",
      "n = 11 | Algorithm count: 068 | Recurrence: 050.477 | Closed form: 050.477 | G(C_n): 050.477\n",
      "n = 12 | Algorithm count: 068 | Recurrence: 056.683 | Closed form: 056.683 | G(C_n): 056.683\n",
      "n = 13 | Algorithm count: 070 | Recurrence: 063.044 | Closed form: 063.044 | G(C_n): 063.044\n",
      "n = 14 | Algorithm count: 073 | Recurrence: 069.547 | Closed form: 069.547 | G(C_n): 069.547\n",
      "n = 15 | Algorithm count: 074 | Recurrence: 076.183 | Closed form: 076.183 | G(C_n): 076.183\n",
      "n = 16 | Algorithm count: 085 | Recurrence: 082.945 | Closed form: 082.945 | G(C_n): 082.945\n",
      "n = 17 | Algorithm count: 090 | Recurrence: 089.824 | Closed form: 089.824 | G(C_n): 089.824\n",
      "n = 18 | Algorithm count: 100 | Recurrence: 096.814 | Closed form: 096.814 | G(C_n): 096.814\n",
      "n = 19 | Algorithm count: 100 | Recurrence: 103.910 | Closed form: 103.910 | G(C_n): 103.910\n",
      "n = 20 | Algorithm count: 110 | Recurrence: 111.105 | Closed form: 111.105 | G(C_n): 111.105\n"
     ]
    }
   ],
   "source": [
    "print(\"Number of checks obtained by: \")\n",
    "print(\"-  counting inside the Quicksort algorithm (on a random permutation)\")\n",
    "print(\"-  evaluating the C_n recurrence\")\n",
    "print(\"-  evaluating the C_n closed form function\")\n",
    "print(\"-  calculating the series G(C_n)\")\n",
    "print(\"\")\n",
    "Time = zeros(20,4)\n",
    "NumChecks = zeros(20,4)\n",
    "for i in range(1,21):\n",
    "    random_perm = numpy.random.permutation(i)\n",
    "    s1 = timeit.default_timer()\n",
    "    NumChecks[i-1,0] = quick(random_perm,0,i-1)\n",
    "    s2 = timeit.default_timer()\n",
    "    NumChecks[i-1,1] = C_py(i)\n",
    "    s3 = timeit.default_timer()\n",
    "    NumChecks[i-1,2] = closed_form_diff.subs(n,i).rhs.evalf()\n",
    "    s4 = timeit.default_timer()\n",
    "    NumChecks[i-1,3] = g_solved5.rhs.series(n=21).evalf().as_ordered_terms()[i-1].args[0]\n",
    "    s5 = timeit.default_timer()\n",
    "    Time[i-1,0]=s2-s1\n",
    "    Time[i-1,1]=s3-s2\n",
    "    Time[i-1,2]=s4-s3\n",
    "    Time[i-1,3]=s5-s4\n",
    "    print (\"n = %02d | Algorithm count: %03d | Recurrence: %07.3f | Closed form: %07.3f | \\\n",
    "G(C_n): %07.3f\" % (i,NumChecks[i-1,0],NumChecks[i-1,1],NumChecks[i-1,2],NumChecks[i-1,3]))"
   ]
  },
  {
   "cell_type": "code",
   "execution_count": 62,
   "metadata": {
    "collapsed": false
   },
   "outputs": [
    {
     "name": "stdout",
     "output_type": "stream",
     "text": [
      "Time (in term of seconds) related to the checks' calculus\n",
      "\n",
      "n = 01 | Algorithm count: 0.00003 s | Recurrence: 0.0001 s| Closed form: 0.00320 s| G(C_n): 3.99898 s\n",
      "n = 02 | Algorithm count: 0.00003 s | Recurrence: 0.0000 s| Closed form: 0.00290 s| G(C_n): 3.85000 s\n",
      "n = 03 | Algorithm count: 0.00003 s | Recurrence: 0.0001 s| Closed form: 0.00239 s| G(C_n): 3.87344 s\n",
      "n = 04 | Algorithm count: 0.00003 s | Recurrence: 0.0001 s| Closed form: 0.00242 s| G(C_n): 4.07233 s\n",
      "n = 05 | Algorithm count: 0.00003 s | Recurrence: 0.0000 s| Closed form: 0.00251 s| G(C_n): 4.07723 s\n",
      "n = 06 | Algorithm count: 0.00004 s | Recurrence: 0.0000 s| Closed form: 0.00280 s| G(C_n): 4.11525 s\n",
      "n = 07 | Algorithm count: 0.00006 s | Recurrence: 0.0001 s| Closed form: 0.00240 s| G(C_n): 3.98169 s\n",
      "n = 08 | Algorithm count: 0.00006 s | Recurrence: 0.0002 s| Closed form: 0.00323 s| G(C_n): 3.88936 s\n",
      "n = 09 | Algorithm count: 0.00004 s | Recurrence: 0.0001 s| Closed form: 0.00258 s| G(C_n): 3.94237 s\n",
      "n = 10 | Algorithm count: 0.00005 s | Recurrence: 0.0003 s| Closed form: 0.00240 s| G(C_n): 3.74770 s\n",
      "n = 11 | Algorithm count: 0.00005 s | Recurrence: 0.0005 s| Closed form: 0.00242 s| G(C_n): 4.02539 s\n",
      "n = 12 | Algorithm count: 0.00004 s | Recurrence: 0.0011 s| Closed form: 0.00248 s| G(C_n): 3.67420 s\n",
      "n = 13 | Algorithm count: 0.00004 s | Recurrence: 0.0021 s| Closed form: 0.00244 s| G(C_n): 3.76680 s\n",
      "n = 14 | Algorithm count: 0.00006 s | Recurrence: 0.0037 s| Closed form: 0.00239 s| G(C_n): 3.75386 s\n",
      "n = 15 | Algorithm count: 0.00005 s | Recurrence: 0.0074 s| Closed form: 0.00253 s| G(C_n): 3.81906 s\n",
      "n = 16 | Algorithm count: 0.00007 s | Recurrence: 0.0160 s| Closed form: 0.00252 s| G(C_n): 3.75749 s\n",
      "n = 17 | Algorithm count: 0.00006 s | Recurrence: 0.0323 s| Closed form: 0.00260 s| G(C_n): 3.76421 s\n",
      "n = 18 | Algorithm count: 0.00005 s | Recurrence: 0.0699 s| Closed form: 0.00364 s| G(C_n): 3.68339 s\n",
      "n = 19 | Algorithm count: 0.00006 s | Recurrence: 0.1260 s| Closed form: 0.00229 s| G(C_n): 3.82313 s\n",
      "n = 20 | Algorithm count: 0.00006 s | Recurrence: 0.2333 s| Closed form: 0.00230 s| G(C_n): 3.70583 s\n"
     ]
    }
   ],
   "source": [
    "print(\"Time (in term of seconds) related to the checks' calculus\")\n",
    "print(\"\")\n",
    "for i in range(1,21):\n",
    "    print (\"n = %02d | Algorithm count: %.5f s | Recurrence: %.4f s| Closed form: %.5f s| \\\n",
    "G(C_n): %.5f s\" % (i,Time[i-1,0],Time[i-1,1],Time[i-1,2],Time[i-1,3]))"
   ]
  },
  {
   "cell_type": "code",
   "execution_count": 66,
   "metadata": {
    "collapsed": false
   },
   "outputs": [
    {
     "data": {
      "image/png": "[encoded data removed]",
      "text/plain": [
       "<matplotlib.figure.Figure at 0x7efebcbd06d0>"
      ]
     },
     "metadata": {},
     "output_type": "display_data"
    },
    {
     "data": {
      "image/png": "[encoded data removed]",
      "text/plain": [
       "<matplotlib.figure.Figure at 0x7efebcbcda10>"
      ]
     },
     "metadata": {},
     "output_type": "display_data"
    }
   ],
   "source": [
    "import sympy\n",
    "import matplotlib.pyplot as plt\n",
    "%matplotlib inline\n",
    "iter=zeros(20,1)\n",
    "for i in range(1,21):\n",
    "    iter[i-1]=i\n",
    "import matplotlib.pyplot as plt\n",
    "\n",
    "plt.rcParams['figure.figsize'] = 15, 5\n",
    "plt.title(\"Number of Checks as n increases\")\n",
    "plt.xlabel(\"n\")\n",
    "plt.ylabel(\"#Checks\")\n",
    "plt.plot(iter, NumChecks[:,0],'ro') #red #Number of Checks related to the Quicksort Algorithm\n",
    "plt.plot(iter, NumChecks[:,1],'ko') #black #Number of Checks related to the Recurrence formula\n",
    "plt.plot(iter, NumChecks[:,2],'go') #green #Number of Checks related to the Closed-form formula\n",
    "plt.plot(iter, NumChecks[:,3],'bo') #blue #Number of Checks related to the G_form\n",
    "plt.axis([0, 30, 0, 120])\n",
    "plt.legend(['Algorithm count','Recurrence','Closed form','G(C_n)'])\n",
    "plt.show()\n",
    "plt.title(\"Time spent (in seconds) as n increases\")\n",
    "plt.xlabel(\"n\")\n",
    "plt.ylabel(\"Time (sec.)\")\n",
    "plt.plot(iter, Time[:,0],'ro') #red #Time related to the Quicksort Algorithm\n",
    "plt.plot(iter, Time[:,1],'ko') #black #Time related to the Recurrence formula\n",
    "plt.plot(iter, Time[:,2],'go') #green #Time related to the Closed-form formula\n",
    "plt.plot(iter, Time[:,3],'bo') #blue #Time related to the G_form\n",
    "plt.axis([0, 30, -1, 6])\n",
    "plt.legend(['Algorithm count','Recurrence','Closed form','G(C_n)'])\n",
    "plt.show()"
   ]
  }
 ],
 "metadata": {
  "kernelspec": {
   "display_name": "Python 2",
   "language": "python",
   "name": "python2"
  },
  "language_info": {
   "codemirror_mode": {
    "name": "ipython",
    "version": 2
   },
   "file_extension": ".py",
   "mimetype": "text/x-python",
   "name": "python",
   "nbconvert_exporter": "python",
   "pygments_lexer": "ipython2",
   "version": "2.7.6"
  }
 },
 "nbformat": 4,
 "nbformat_minor": 0
}
