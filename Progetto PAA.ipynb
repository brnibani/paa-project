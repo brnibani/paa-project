{
 "cells": [
  {
   "cell_type": "markdown",
   "metadata": {},
   "source": [
    "# PAA Project, a.y. 2015/2016\n",
    "## Average number of checks for Quicksort\n",
    "\n",
    "Authors: Tommaso Papini (5537529), Gabriele Bani (5719258)\n"
   ]
  },
  {
   "cell_type": "markdown",
   "metadata": {},
   "source": [
    "### Some initial imports"
   ]
  },
  {
   "cell_type": "code",
   "execution_count": 50,
   "metadata": {
    "collapsed": true
   },
   "outputs": [],
   "source": [
    "import numpy\n",
    "from sympy import *\n",
    "from sympy.abc import x, n, z, t, j, k\n",
    "\n",
    "init_printing()"
   ]
  },
  {
   "cell_type": "markdown",
   "metadata": {},
   "source": [
    "### Quicksort implementation with checks counting"
   ]
  },
  {
   "cell_type": "code",
   "execution_count": 51,
   "metadata": {
    "collapsed": true
   },
   "outputs": [],
   "source": [
    "def quick(v,l,r):\n",
    "    #v is the array, l and r are the indexes of the quicksort (left and right)\n",
    "    nc = 0; #nc is the number of checks made by the QuickSort Algorithm\n",
    "    if r-l>=0:\n",
    "        p = v[r]\n",
    "        i = l-1\n",
    "        j = r\n",
    "        while i<j:\n",
    "            i=i+1\n",
    "            nc=nc+1\n",
    "            while v[i]<p:\n",
    "                i=i+1\n",
    "                nc=nc+1\n",
    "            j=j-1\n",
    "            nc=nc+1\n",
    "            while l<=j and p<v[j]:\n",
    "                j=j-1\n",
    "                nc=nc+1\n",
    "            if i<j:\n",
    "                a=v[i]\n",
    "                v[i]=v[j]\n",
    "                v[j]=a\n",
    "        a=v[i]\n",
    "        v[i]=p\n",
    "        v[r]=a\n",
    "        nc = nc + quick(v,l,i-1)\n",
    "        nc = nc + quick(v,i+1,r)\n",
    "    return nc"
   ]
  },
  {
   "cell_type": "markdown",
   "metadata": {},
   "source": [
    "### Closed form to compute the average number of checks for Quicksort on an array of $n$ elements"
   ]
  },
  {
   "cell_type": "code",
   "execution_count": 52,
   "metadata": {
    "collapsed": true
   },
   "outputs": [],
   "source": [
    "def checks_quicksort(n):\n",
    "    return 2*(n+1)*(harmonic(n+1).evalf()-1)"
   ]
  },
  {
   "cell_type": "markdown",
   "metadata": {},
   "source": [
    "### A couple of examples"
   ]
  },
  {
   "cell_type": "code",
   "execution_count": 53,
   "metadata": {
    "collapsed": false
   },
   "outputs": [
    {
     "name": "stdout",
     "output_type": "stream",
     "text": [
      "Random array: [ 4  5 10 15 17  9 14 19 13  3 12  2  7  6  1  0 11 18 16  8]\n",
      "Array after Quicksort: [ 0  1  2  3  4  5  6  7  8  9 10 11 12 13 14 15 16 17 18 19]\n",
      "Quicksort count: 97.00000; closed-form: 111.10507\n"
     ]
    }
   ],
   "source": [
    "random_perm = numpy.random.permutation(20)\n",
    "print \"Random array: %s\" % (random_perm)\n",
    "checks = quick(random_perm,0,19)\n",
    "print \"Array after Quicksort: %s\" % (random_perm)\n",
    "print \"Quicksort count: %.5f; closed-form: %.5f\" % (checks, checks_quicksort(20))"
   ]
  },
  {
   "cell_type": "code",
   "execution_count": 54,
   "metadata": {
    "collapsed": false
   },
   "outputs": [
    {
     "name": "stdout",
     "output_type": "stream",
     "text": [
      "Random array: [1 0 2 3]\n",
      "Array after Quicksort: [0 1 2 3]\n",
      "Quicksort count: 14.00000; closed-form: 12.83333\n"
     ]
    }
   ],
   "source": [
    "random_perm = numpy.random.permutation(4)\n",
    "print \"Random array: %s\" % (random_perm)\n",
    "checks = quick(random_perm,0,3)\n",
    "print \"Array after Quicksort: %s\" % (random_perm)\n",
    "print \"Quicksort count: %.5f; closed-form: %.5f\" % (checks, checks_quicksort(4))"
   ]
  },
  {
   "cell_type": "markdown",
   "metadata": {},
   "source": [
    "### Main recurrence"
   ]
  },
  {
   "cell_type": "markdown",
   "metadata": {},
   "source": [
    "#### Python version"
   ]
  },
  {
   "cell_type": "code",
   "execution_count": 55,
   "metadata": {
    "collapsed": false
   },
   "outputs": [
    {
     "name": "stdout",
     "output_type": "stream",
     "text": [
      "Quicksort count: 127.00000; closed-form: 111.10507; recurrence: 111.10507\n"
     ]
    }
   ],
   "source": [
    "def C_py(n):\n",
    "    if n == 0:\n",
    "        return 0\n",
    "    else:\n",
    "        Cn = 0.0\n",
    "        for k in range(0, n):\n",
    "            Cn += C_py(k)\n",
    "        return n+1+(2.0/n)*Cn\n",
    "random_perm = numpy.random.permutation(20)\n",
    "print \"Quicksort count: %.5f; closed-form: %.5f; recurrence: %.5f\" % (quick(random_perm,0,19), checks_quicksort(20), C_py(20))"
   ]
  },
  {
   "cell_type": "markdown",
   "metadata": {},
   "source": [
    "#### sympy version"
   ]
  },
  {
   "cell_type": "code",
   "execution_count": 56,
   "metadata": {
    "collapsed": false
   },
   "outputs": [
    {
     "data": {
      "image/png": "[encoded data removed]",
      "text/latex": [
       "$$C{\\left (n \\right )} = n + 1 + \\frac{2}{n} \\sum_{k=0}^{n - 1} C{\\left (k \\right )}$$"
      ],
      "text/plain": [
       "                 n - 1     \n",
       "                  ___      \n",
       "                  ╲        \n",
       "                   ╲   C(k)\n",
       "               2⋅  ╱       \n",
       "                  ╱        \n",
       "                  ‾‾‾      \n",
       "                 k = 0     \n",
       "C(n) = n + 1 + ────────────\n",
       "                    n      "
      ]
     },
     "execution_count": 56,
     "metadata": {},
     "output_type": "execute_result"
    }
   ],
   "source": [
    "C_fun = Function('C')\n",
    "base_rec = Eq(C_fun(n), n+1+(2/n)*Sum(C_fun(k), (k, 0, n-1)))\n",
    "base_rec"
   ]
  },
  {
   "cell_type": "markdown",
   "metadata": {},
   "source": [
    "#### Are we lucky?"
   ]
  },
  {
   "cell_type": "code",
   "execution_count": 57,
   "metadata": {
    "collapsed": false
   },
   "outputs": [
    {
     "name": "stdout",
     "output_type": "stream",
     "text": [
      "None\n"
     ]
    }
   ],
   "source": [
    "print rsolve(base_rec, C_fun(n), {C_fun(0):0})"
   ]
  },
  {
   "cell_type": "markdown",
   "metadata": {},
   "source": [
    "Nope... :("
   ]
  },
  {
   "cell_type": "markdown",
   "metadata": {},
   "source": [
    "### Recurrence solving (difference method)"
   ]
  },
  {
   "cell_type": "markdown",
   "metadata": {},
   "source": [
    "#### Auxiliary function to apply the same operation to a number and two sided of an Eq"
   ]
  },
  {
   "cell_type": "code",
   "execution_count": 58,
   "metadata": {
    "collapsed": false
   },
   "outputs": [],
   "source": [
    "def do_both(eq, n, op):\n",
    "    return Eq(op(eq.lhs, n), op(eq.rhs, n))"
   ]
  },
  {
   "cell_type": "markdown",
   "metadata": {},
   "source": [
    "#### Multiply by n both sides"
   ]
  },
  {
   "cell_type": "code",
   "execution_count": 59,
   "metadata": {
    "collapsed": false
   },
   "outputs": [
    {
     "data": {
      "image/png": "[encoded data removed]",
      "text/latex": [
       "$$n C{\\left (n \\right )} = n \\left(n + 1\\right) + \\sum_{k=0}^{n - 1} 2 C{\\left (k \\right )}$$"
      ],
      "text/plain": [
       "                     n - 1       \n",
       "                      ___        \n",
       "                      ╲          \n",
       "                       ╲   2⋅C(k)\n",
       "n⋅C(n) = n⋅(n + 1) +   ╱         \n",
       "                      ╱          \n",
       "                      ‾‾‾        \n",
       "                     k = 0       "
      ]
     },
     "execution_count": 59,
     "metadata": {},
     "output_type": "execute_result"
    }
   ],
   "source": [
    "base_rec2 = do_both(base_rec, n, lambda x,y: x*y).simplify()\n",
    "base_rec2"
   ]
  },
  {
   "cell_type": "markdown",
   "metadata": {},
   "source": [
    "#### The above is valid forall $n$, so it's valid for $n-1$ as well"
   ]
  },
  {
   "cell_type": "code",
   "execution_count": 60,
   "metadata": {
    "collapsed": false
   },
   "outputs": [
    {
     "data": {
      "image/png": "[encoded data removed]",
      "text/latex": [
       "$$\\left(n - 1\\right) C{\\left (n - 1 \\right )} = n \\left(n - 1\\right) + \\sum_{k=0}^{n - 2} 2 C{\\left (k \\right )}$$"
      ],
      "text/plain": [
       "                               n - 2       \n",
       "                                ___        \n",
       "                                ╲          \n",
       "                                 ╲   2⋅C(k)\n",
       "(n - 1)⋅C(n - 1) = n⋅(n - 1) +   ╱         \n",
       "                                ╱          \n",
       "                                ‾‾‾        \n",
       "                               k = 0       "
      ]
     },
     "execution_count": 60,
     "metadata": {},
     "output_type": "execute_result"
    }
   ],
   "source": [
    "base_rec2_prev = base_rec2.subs(n, n-1).simplify()\n",
    "base_rec2_prev"
   ]
  },
  {
   "cell_type": "markdown",
   "metadata": {},
   "source": [
    "#### Auxiliary function to apply an operation to two Eqs sidewise"
   ]
  },
  {
   "cell_type": "code",
   "execution_count": 61,
   "metadata": {
    "collapsed": true
   },
   "outputs": [],
   "source": [
    "def do_eqs(eq1, eq2, op):\n",
    "    return Eq(op(eq1.lhs, eq2.lhs), op(eq1.rhs, eq2.rhs))"
   ]
  },
  {
   "cell_type": "markdown",
   "metadata": {},
   "source": [
    "#### Application of the difference method"
   ]
  },
  {
   "cell_type": "code",
   "execution_count": 62,
   "metadata": {
    "collapsed": false
   },
   "outputs": [
    {
     "data": {
      "image/png": "[encoded data removed]",
      "text/latex": [
       "$$n C{\\left (n \\right )} - \\left(n - 1\\right) C{\\left (n - 1 \\right )} = 2 n + \\sum_{k=0}^{n - 2} - 2 C{\\left (k \\right )} + \\sum_{k=0}^{n - 1} 2 C{\\left (k \\right )}$$"
      ],
      "text/plain": [
       "                                  n - 2           n - 1       \n",
       "                                   ___             ___        \n",
       "                                   ╲               ╲          \n",
       "                                    ╲   -2⋅C(k)     ╲   2⋅C(k)\n",
       "n⋅C(n) - (n - 1)⋅C(n - 1) = 2⋅n +   ╱           +   ╱         \n",
       "                                   ╱               ╱          \n",
       "                                   ‾‾‾             ‾‾‾        \n",
       "                                  k = 0           k = 0       "
      ]
     },
     "execution_count": 62,
     "metadata": {},
     "output_type": "execute_result"
    }
   ],
   "source": [
    "diff_rec = do_eqs(base_rec2, base_rec2_prev, lambda x,y: x-y).simplify()\n",
    "diff_rec"
   ]
  },
  {
   "cell_type": "markdown",
   "metadata": {},
   "source": [
    "#### Auxiliary function to extract the last term of a summation and substitute inside an Eq"
   ]
  },
  {
   "cell_type": "code",
   "execution_count": 63,
   "metadata": {
    "collapsed": false
   },
   "outputs": [],
   "source": [
    "def extract_last_term_subs(eq, old_sum):\n",
    "    sum_args = old_sum.args\n",
    "    f = sum_args[0]\n",
    "    indexes = sum_args[1]\n",
    "    new_sum = Sum(f, (indexes[0], indexes[1], indexes[2]-1)) + f.subs(indexes[0], indexes[2])\n",
    "    return eq.subs(old_sum, new_sum)"
   ]
  },
  {
   "cell_type": "markdown",
   "metadata": {},
   "source": [
    "#### Extract term $n-1$ and simplify summations"
   ]
  },
  {
   "cell_type": "code",
   "execution_count": 64,
   "metadata": {
    "collapsed": false
   },
   "outputs": [
    {
     "data": {
      "image/png": "[encoded data removed]",
      "text/latex": [
       "$$n C{\\left (n \\right )} - \\left(n - 1\\right) C{\\left (n - 1 \\right )} = 2 n + 2 C{\\left (n - 1 \\right )}$$"
      ],
      "text/plain": [
       "n⋅C(n) - (n - 1)⋅C(n - 1) = 2⋅n + 2⋅C(n - 1)"
      ]
     },
     "execution_count": 64,
     "metadata": {},
     "output_type": "execute_result"
    }
   ],
   "source": [
    "diff_rec2 = extract_last_term_subs(diff_rec, Sum(2*C_fun(k), (k, 0, n-1))).simplify().doit()\n",
    "diff_rec2"
   ]
  },
  {
   "cell_type": "markdown",
   "metadata": {},
   "source": [
    "#### Move $(n-1)C(n-1)$ to the other side and group by $C(n-1)$"
   ]
  },
  {
   "cell_type": "code",
   "execution_count": 65,
   "metadata": {
    "collapsed": false
   },
   "outputs": [
    {
     "data": {
      "image/png": "[encoded data removed]",
      "text/latex": [
       "$$n C{\\left (n \\right )} = 2 n + \\left(n + 1\\right) C{\\left (n - 1 \\right )}$$"
      ],
      "text/plain": [
       "n⋅C(n) = 2⋅n + (n + 1)⋅C(n - 1)"
      ]
     },
     "execution_count": 65,
     "metadata": {},
     "output_type": "execute_result"
    }
   ],
   "source": [
    "new_rec = do_both(diff_rec2, (n-1)*C_fun(n-1), lambda x,y: x+y).simplify().factor(C_fun(n-1))\n",
    "new_rec"
   ]
  },
  {
   "cell_type": "markdown",
   "metadata": {},
   "source": [
    "#### Divide both sides by $n(n-1)$"
   ]
  },
  {
   "cell_type": "code",
   "execution_count": 66,
   "metadata": {
    "collapsed": false,
    "scrolled": true
   },
   "outputs": [
    {
     "data": {
      "image/png": "[encoded data removed]",
      "text/latex": [
       "$$\\frac{C{\\left (n \\right )}}{n + 1} = \\frac{2}{n + 1} + \\frac{1}{n} C{\\left (n - 1 \\right )}$$"
      ],
      "text/plain": [
       " C(n)     2     C(n - 1)\n",
       "───── = ───── + ────────\n",
       "n + 1   n + 1      n    "
      ]
     },
     "execution_count": 66,
     "metadata": {},
     "output_type": "execute_result"
    }
   ],
   "source": [
    "div_rec  = apart(do_both(new_rec, n*(n+1), lambda x,y: x/y), C_fun(n-1))\n",
    "div_rec"
   ]
  },
  {
   "cell_type": "markdown",
   "metadata": {},
   "source": [
    "#### Let's iterate!"
   ]
  },
  {
   "cell_type": "code",
   "execution_count": 67,
   "metadata": {
    "collapsed": false
   },
   "outputs": [
    {
     "data": {
      "image/png": "[encoded data removed]",
      "text/latex": [
       "$$\\frac{C{\\left (n \\right )}}{n + 1} = \\frac{2}{n + 1} + \\frac{C{\\left (n - 2 \\right )}}{n - 1} + \\frac{2}{n}$$"
      ],
      "text/plain": [
       " C(n)     2     C(n - 2)   2\n",
       "───── = ───── + ──────── + ─\n",
       "n + 1   n + 1    n - 1     n"
      ]
     },
     "execution_count": 67,
     "metadata": {},
     "output_type": "execute_result"
    }
   ],
   "source": [
    "div_rec2 = div_rec.subs(C_fun(n-1)/n, div_rec.subs(n, n-1).rhs)\n",
    "div_rec2"
   ]
  },
  {
   "cell_type": "code",
   "execution_count": 68,
   "metadata": {
    "collapsed": false
   },
   "outputs": [
    {
     "data": {
      "image/png": "[encoded data removed]",
      "text/latex": [
       "$$\\frac{C{\\left (n \\right )}}{n + 1} = \\frac{2}{n + 1} + \\frac{2}{n - 1} + \\frac{C{\\left (n - 3 \\right )}}{n - 2} + \\frac{2}{n}$$"
      ],
      "text/plain": [
       " C(n)     2       2     C(n - 3)   2\n",
       "───── = ───── + ───── + ──────── + ─\n",
       "n + 1   n + 1   n - 1    n - 2     n"
      ]
     },
     "execution_count": 68,
     "metadata": {},
     "output_type": "execute_result"
    }
   ],
   "source": [
    "div_rec3 = div_rec2.subs(C_fun(n-2)/(n-1), div_rec.subs(n, n-2).rhs)\n",
    "div_rec3"
   ]
  },
  {
   "cell_type": "markdown",
   "metadata": {},
   "source": [
    "#### All the way to $C(0)$   // is this passage correct?"
   ]
  },
  {
   "cell_type": "code",
   "execution_count": 69,
   "metadata": {
    "collapsed": false
   },
   "outputs": [
    {
     "data": {
      "image/png": "[encoded data removed]",
      "text/latex": [
       "$$\\frac{C{\\left (n \\right )}}{n + 1} = C{\\left (0 \\right )} + \\sum_{k=2}^{n + 1} \\frac{2}{k}$$"
      ],
      "text/plain": [
       "               n + 1  \n",
       "                ____  \n",
       "                ╲     \n",
       "                 ╲   2\n",
       " C(n)             ╲  ─\n",
       "───── = C(0) +    ╱  k\n",
       "n + 1            ╱    \n",
       "                ╱     \n",
       "                ‾‾‾‾  \n",
       "               k = 2  "
      ]
     },
     "execution_count": 69,
     "metadata": {},
     "output_type": "execute_result"
    }
   ],
   "source": [
    "div_rec_final = Eq(div_rec.lhs, Sum(2/k, (k, 2, n+1))+C_fun(0)/(n-n+1))\n",
    "div_rec_final"
   ]
  },
  {
   "cell_type": "markdown",
   "metadata": {},
   "source": [
    "#### But $C(0)=0$ (initial condition)"
   ]
  },
  {
   "cell_type": "code",
   "execution_count": 70,
   "metadata": {
    "collapsed": false
   },
   "outputs": [
    {
     "data": {
      "image/png": "[encoded data removed]",
      "text/latex": [
       "$$\\frac{C{\\left (n \\right )}}{n + 1} = 2 \\sum_{k=2}^{n + 1} \\frac{1}{k}$$"
      ],
      "text/plain": [
       "          n + 1  \n",
       "           ____  \n",
       "           ╲     \n",
       "            ╲   1\n",
       " C(n)        ╲  ─\n",
       "───── = 2⋅   ╱  k\n",
       "n + 1       ╱    \n",
       "           ╱     \n",
       "           ‾‾‾‾  \n",
       "          k = 2  "
      ]
     },
     "execution_count": 70,
     "metadata": {},
     "output_type": "execute_result"
    }
   ],
   "source": [
    "div_rec_final2 = div_rec_final.subs(C_fun(0), 0).factor()\n",
    "div_rec_final2"
   ]
  },
  {
   "cell_type": "markdown",
   "metadata": {},
   "source": [
    "#### Auxiliary function to add a missing first term in a summation and substitute inside an Eq"
   ]
  },
  {
   "cell_type": "code",
   "execution_count": 71,
   "metadata": {
    "collapsed": true
   },
   "outputs": [],
   "source": [
    "def add_missing_first_term_subs(eq, old_sum):\n",
    "    sum_args = old_sum.args\n",
    "    f = sum_args[0]\n",
    "    indexes = sum_args[1]\n",
    "    new_sum = Sum(f, (indexes[0], indexes[1]-1, indexes[2])) - f.subs(indexes[0], indexes[1]-1)\n",
    "    return eq.subs(old_sum, new_sum)"
   ]
  },
  {
   "cell_type": "markdown",
   "metadata": {},
   "source": [
    "#### Let's add the missing first term to the summation above"
   ]
  },
  {
   "cell_type": "code",
   "execution_count": 72,
   "metadata": {
    "collapsed": false
   },
   "outputs": [
    {
     "data": {
      "image/png": "[encoded data removed]",
      "text/latex": [
       "$$\\frac{C{\\left (n \\right )}}{n + 1} = 2 \\left(\\sum_{k=1}^{n + 1} \\frac{1}{k} - 1\\right)$$"
      ],
      "text/plain": [
       "          ⎛n + 1      ⎞\n",
       "          ⎜ ____      ⎟\n",
       "          ⎜ ╲         ⎟\n",
       "          ⎜  ╲   1    ⎟\n",
       " C(n)     ⎜   ╲  ─    ⎟\n",
       "───── = 2⋅⎜   ╱  k - 1⎟\n",
       "n + 1     ⎜  ╱        ⎟\n",
       "          ⎜ ╱         ⎟\n",
       "          ⎜ ‾‾‾‾      ⎟\n",
       "          ⎝k = 1      ⎠"
      ]
     },
     "execution_count": 72,
     "metadata": {},
     "output_type": "execute_result"
    }
   ],
   "source": [
    "div_rec_final3 = add_missing_first_term_subs(div_rec_final2, Sum(1/k, (k, 2, n+1))).factor()\n",
    "div_rec_final3"
   ]
  },
  {
   "cell_type": "markdown",
   "metadata": {},
   "source": [
    "#### That summation above is the harmonic series!   // find a way to rewrite as $harmonic(n+1)$"
   ]
  },
  {
   "cell_type": "code",
   "execution_count": 74,
   "metadata": {
    "collapsed": false
   },
   "outputs": [
    {
     "data": {
      "image/png": "[encoded data removed]",
      "text/latex": [
       "$$\\frac{C{\\left (n \\right )}}{n + 1} = 2 \\sum_{k=1}^{n + 1} \\frac{1}{k} - 2$$"
      ],
      "text/plain": [
       "          n + 1      \n",
       "           ____      \n",
       "           ╲         \n",
       "            ╲   1    \n",
       " C(n)        ╲  ─    \n",
       "───── = 2⋅   ╱  k - 2\n",
       "n + 1       ╱        \n",
       "           ╱         \n",
       "           ‾‾‾‾      \n",
       "          k = 1      "
      ]
     },
     "execution_count": 74,
     "metadata": {},
     "output_type": "execute_result"
    }
   ],
   "source": [
    "div_rec_final_harm = div_rec_final3.rewrite(harmonic)\n",
    "div_rec_final_harm"
   ]
  },
  {
   "cell_type": "code",
   "execution_count": null,
   "metadata": {
    "collapsed": true
   },
   "outputs": [],
   "source": []
  }
 ],
 "metadata": {
  "kernelspec": {
   "display_name": "Python 2",
   "language": "python",
   "name": "python2"
  },
  "language_info": {
   "codemirror_mode": {
    "name": "ipython",
    "version": 2
   },
   "file_extension": ".py",
   "mimetype": "text/x-python",
   "name": "python",
   "nbconvert_exporter": "python",
   "pygments_lexer": "ipython2",
   "version": "2.7.6"
  }
 },
 "nbformat": 4,
 "nbformat_minor": 0
}
