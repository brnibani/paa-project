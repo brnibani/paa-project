{
 "metadata": {
  "name": ""
 },
 "nbformat": 3,
 "nbformat_minor": 0,
 "worksheets": [
  {
   "cells": [
    {
     "cell_type": "markdown",
     "metadata": {},
     "source": [
      "# Progetto PAA, a.a. 2015/2016\n",
      "\n",
      "Autori: Tommaso Papini (5537529), Gabriele Bani (???????)\n",
      "\n",
      "## Quicksort\n",
      "\n",
      "## Mergesort"
     ]
    },
    {
     "cell_type": "code",
     "collapsed": false,
     "input": [],
     "language": "python",
     "metadata": {},
     "outputs": []
    }
   ],
   "metadata": {}
  }
 ]
}